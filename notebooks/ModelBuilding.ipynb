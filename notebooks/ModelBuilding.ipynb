{
 "cells": [
  {
   "cell_type": "code",
   "execution_count": 16,
   "id": "c34a6094",
   "metadata": {
    "id": "c34a6094"
   },
   "outputs": [],
   "source": [
    "import os\n",
    "import sys\n",
    "sys.path.append(os.path.abspath(os.path.join('../scripts')))\n",
    "sys.path.append(os.path.abspath(os.path.join('./scripts')))\n",
    "\n",
    "import IPython.display as ipd\n",
    "import matplotlib.pyplot as plt\n",
    "import numpy as np\n",
    "from scipy.io import wavfile #for audio processing\n",
    "import os\n",
    "import pickle\n",
    "import pandas as pd\n",
    "from collections import Counter\n",
    "\n",
    "import tensorflow as tf\n",
    "from tensorflow.keras.models import Model, Sequential\n",
    "from tensorflow.keras.layers import * \n",
    "from tensorflow.keras.preprocessing.sequence import pad_sequences\n",
    "from tensorflow.keras.optimizers import SGD, Adam, RMSprop\n",
    "from tensorflow.keras import backend as K\n",
    "# import mlflow"
   ]
  },
  {
   "cell_type": "code",
   "execution_count": 5,
   "id": "14DrOASH1-ag",
   "metadata": {
    "id": "14DrOASH1-ag"
   },
   "outputs": [],
   "source": [
    "!ln -s ./drive/MyDrive/SST/data/ ./\n",
    "!ln -s ./drive/MyDrive/SST/scripts/* ./"
   ]
  },
  {
   "cell_type": "code",
   "execution_count": 2,
   "id": "IQLOtaNr2GSB",
   "metadata": {
    "colab": {
     "base_uri": "https://localhost:8080/"
    },
    "id": "IQLOtaNr2GSB",
    "outputId": "0874496b-6463-497a-9cbb-6f23b41ca933"
   },
   "outputs": [
    {
     "name": "stdout",
     "output_type": "stream",
     "text": [
      "Mounted at /content/drive\n"
     ]
    }
   ],
   "source": [
    "# from google.colab import drive\n",
    "# drive.mount('/content/drive')"
   ]
  },
  {
   "cell_type": "code",
   "execution_count": 1,
   "id": "acf88600",
   "metadata": {
    "id": "acf88600"
   },
   "outputs": [],
   "source": [
    "import helper\n"
   ]
  },
  {
   "cell_type": "code",
   "execution_count": 2,
   "id": "4f219ca9",
   "metadata": {
    "id": "4f219ca9"
   },
   "outputs": [],
   "source": [
    "from data_generator import DataGenerator\n",
    "from data_loader import DataLoader\n",
    "from tokenizer import Tokenizer\n",
    "from logspectrorgam import LogMelSpectrogram\n",
    "from bidirectionalRNN import BidirectionalRNN\n",
    "from simpleRNN import simple_rnn_model\n",
    "from ctc_loss import add_ctc_loss"
   ]
  },
  {
   "cell_type": "code",
   "execution_count": null,
   "id": "mq2pY885Hd64",
   "metadata": {
    "id": "mq2pY885Hd64"
   },
   "outputs": [],
   "source": []
  },
  {
   "cell_type": "code",
   "execution_count": 7,
   "id": "4b39d89d",
   "metadata": {
    "id": "4b39d89d"
   },
   "outputs": [],
   "source": [
    "sample_rate = 8000"
   ]
  },
  {
   "cell_type": "code",
   "execution_count": 12,
   "id": "09c8fa57",
   "metadata": {
    "id": "09c8fa57"
   },
   "outputs": [],
   "source": [
    "def preprocessin_model(sample_rate, fft_size, frame_step, n_mels, mfcc=False):\n",
    "\n",
    "    input_data = Input(name='input', shape=(None,), dtype=\"float32\")\n",
    "    featLayer = LogMelSpectrogram(\n",
    "        fft_size=fft_size,\n",
    "        hop_size=frame_step,\n",
    "        n_mels=n_mels,\n",
    "        \n",
    "        sample_rate=sample_rate,\n",
    "        f_min=0.0,\n",
    "        \n",
    "        f_max=int(sample_rate / 2)\n",
    "    )(input_data)\n",
    "    \n",
    "    x = BatchNormalization()(featLayer)\n",
    "    model = Model(inputs=input_data, outputs=x, name=\"preprocessin_model\")\n",
    "\n",
    "    return model"
   ]
  },
  {
   "cell_type": "code",
   "execution_count": 13,
   "id": "bf0de92e",
   "metadata": {
    "id": "bf0de92e"
   },
   "outputs": [],
   "source": [
    "def simple_rnn_model(input_dim, output_dim=224):\n",
    "\n",
    "    input_data = Input(name='the_input', shape=(None, input_dim))\n",
    "    simp_rnn = GRU(output_dim, return_sequences=True,\n",
    "                   implementation=2, name='rnn')(input_data)\n",
    "    y_pred = Activation('softmax', name='softmax')(simp_rnn)\n",
    "    model = Model(inputs=input_data, outputs=y_pred, name=\"simple_rnn_model\")\n",
    "    model.output_length = lambda x: x\n",
    "    return model"
   ]
  },
  {
   "cell_type": "code",
   "execution_count": 29,
   "id": "7d82a51e",
   "metadata": {
    "id": "7d82a51e"
   },
   "outputs": [],
   "source": [
    "def BidirectionalRNN(input_dim, batch_size, sample_rate=22000,\n",
    "                     rnn_layers=2, units=400, drop_out=0.5, act='tanh', output_dim=224):\n",
    "\n",
    "    input_data = Input(name='the_input', shape=(\n",
    "        None, input_dim))\n",
    "    \n",
    "\n",
    "\n",
    "    \n",
    "    x = Bidirectional(LSTM(units,  activation=act,\n",
    "                      return_sequences=True, implementation=2))(input_data)\n",
    "    \n",
    "    x = BatchNormalization()(x)\n",
    "    x = Dropout(drop_out)(x)\n",
    "\n",
    "    for i in range(rnn_layers - 2):\n",
    "        x = Bidirectional(\n",
    "            LSTM(units, activation=act, return_sequences=True))(x)\n",
    "        x = BatchNormalization()(x)\n",
    "        x = Dropout(drop_out)(x)\n",
    "\n",
    "    x = Bidirectional(LSTM(units,  activation=act,\n",
    "                      return_sequences=True, implementation=2))(x)\n",
    "    x = BatchNormalization()(x)\n",
    "    x = Dropout(drop_out)(x)\n",
    "\n",
    "    time_dense = TimeDistributed(Dense(output_dim))(x)\n",
    "\n",
    "    y_pred = Activation('softmax', name='softmax')(time_dense)\n",
    "\n",
    "    model = Model(inputs=input_data, outputs=y_pred, name=\"BidirectionalRNN\")\n",
    "\n",
    "    return model"
   ]
  },
  {
   "cell_type": "code",
   "execution_count": 17,
   "id": "7abeb89a",
   "metadata": {
    "id": "7abeb89a"
   },
   "outputs": [],
   "source": [
    "def train(model_builder, \n",
    "          data_len,\n",
    "          data_gen,\n",
    "          batch_size = 25,\n",
    "          epochs=20, \n",
    "          verbose=1,\n",
    "          optimizer=SGD(learning_rate=0.002, decay=1e-6, momentum=0.9, nesterov=True, clipnorm=5),\n",
    "          ):    \n",
    "              \n",
    "    model = add_ctc_loss(model_builder)\n",
    "\n",
    "    model.compile(loss={'ctc': lambda y_true, y_pred: y_pred}, optimizer=optimizer)\n",
    "    print(model.summary())\n",
    "\n",
    "\n",
    "    hist = model.fit_generator(generator=data_gen,\n",
    "                               epochs=epochs,\n",
    "                               verbose=verbose, \n",
    "                               use_multiprocessing=False)\n",
    "    return model"
   ]
  },
  {
   "cell_type": "code",
   "execution_count": 3,
   "id": "3f654a55",
   "metadata": {
    "id": "3f654a55"
   },
   "outputs": [],
   "source": [
    "translation_obj = helper.read_obj(\"../data/translation_dict.pkl\")\n",
    "audio_obj = helper.read_obj(\"../data/audio_dict.pkl\")\n",
    "\n",
    "# translation_obj = helper.read_obj(\"./data/translation_dict.pkl\")\n",
    "# audio_obj = helper.read_obj(\"./data/audio_dict.pkl\")\n",
    "# meta_data = data_loader.create_meta_data(translation_obj, audio_obj)"
   ]
  },
  {
   "cell_type": "code",
   "execution_count": 4,
   "id": "ef6a4e11",
   "metadata": {
    "id": "ef6a4e11"
   },
   "outputs": [],
   "source": [
    "audios = []\n",
    "for label in audio_obj:\n",
    "    audios.append(audio_obj[label][0])\n",
    "    \n",
    "translations = []\n",
    "for label in audio_obj:\n",
    "    translations.append(translation_obj[label])"
   ]
  },
  {
   "cell_type": "code",
   "execution_count": 6,
   "id": "3675d659",
   "metadata": {
    "id": "3675d659"
   },
   "outputs": [],
   "source": [
    "def build_model(output_dim, custom_model, preprocess_model, mfcc=False, calc=None):\n",
    "\n",
    "    input_audios = Input(name='the_input', shape=(None,))\n",
    "    pre = preprocess_model(input_audios)\n",
    "    pre = tf.squeeze(pre, [3])\n",
    "\n",
    "    y_pred = custom_model(pre)\n",
    "    model = Model(inputs=input_audios, outputs=y_pred, name=\"model_builder\")\n",
    "    model.output_length = calc\n",
    "\n",
    "    return model"
   ]
  },
  {
   "cell_type": "code",
   "execution_count": 35,
   "id": "CKKxhFiFozcF",
   "metadata": {
    "id": "CKKxhFiFozcF"
   },
   "outputs": [],
   "source": [
    "def predict(model, audio, tokenizer, int_to_char):\n",
    "    \n",
    "    pred_audios = tf.convert_to_tensor([audio])\n",
    "    \n",
    "    y_pred = model.predict(pred_audios)\n",
    "\n",
    "    input_shape = tf.keras.backend.shape(y_pred)\n",
    "    input_length = tf.ones(shape=input_shape[0]) * tf.keras.backend.cast(input_shape[1], 'float32')\n",
    "    prediction = tf.keras.backend.ctc_decode(y_pred, input_length, greedy=False)[0][0]\n",
    "        \n",
    "    pred = K.eval(prediction).flatten().tolist()\n",
    "    pred = [i for i in pred if i != -1]\n",
    "    \n",
    "    predicted_text = tokenizer.decode_text(pred, int_to_char)\n",
    "   \n",
    "    return predicted_text"
   ]
  },
  {
   "cell_type": "code",
   "execution_count": 9,
   "id": "107cd033",
   "metadata": {
    "colab": {
     "base_uri": "https://localhost:8080/"
    },
    "id": "107cd033",
    "outputId": "62ff2f34-d67b-49af-c56b-afab5405169a"
   },
   "outputs": [
    {
     "name": "stdout",
     "output_type": "stream",
     "text": [
      "sample snt: የተለያዩ የ ትግራይ አውራጃ ተወላጆች ገንዘባቸው ን አዋጥ ተው የ ልማት ተቋማትን እንዲ መሰርቱ ትልማ አይ ፈቅድ ም\n",
      "encoded snt: [7, 8, 11, 6, 131, 1, 7, 1, 3, 28, 27, 24, 1, 10, 4, 27, 115, 1, 8, 37, 29, 149, 18, 1, 21, 2, 65, 23, 26, 4, 1, 2, 1, 10, 41, 43, 1, 8, 4, 1, 7, 1, 12, 22, 3, 1, 8, 88, 22, 3, 2, 1, 13, 2, 49, 1, 15, 31, 14, 69, 1, 3, 12, 22, 1, 10, 24, 1, 61, 45, 32, 1, 16]\n",
      "decoed snt: የተለያዩ የ ትግራይ አውራጃ ተወላጆች ገንዘባቸው ን አዋጥ ተው የ ልማት ተቋማትን እንዲ መሰርቱ ትልማ አይ ፈቅድ ም\n"
     ]
    }
   ],
   "source": [
    "tokenizer = Tokenizer(translations)\n",
    "int_to_char, char_to_int = tokenizer.build_dict()\n",
    "sample = translations[0]\n",
    "encoded = tokenizer.encode(sample, char_to_int)\n",
    "decoded = tokenizer.decode_text(encoded, int_to_char)\n",
    "\n",
    "print(f\"sample snt: {sample}\")\n",
    "print(f\"encoded snt: {encoded}\")\n",
    "print(f\"decoed snt: {decoded}\")"
   ]
  },
  {
   "cell_type": "code",
   "execution_count": 18,
   "id": "bdea9379",
   "metadata": {
    "id": "bdea9379"
   },
   "outputs": [],
   "source": [
    "\n",
    "sample_rate = 22000\n",
    "fft_size = 1024\n",
    "frame_step = 512\n",
    "n_mels = 128\n",
    "\n",
    "batch_size = 100\n",
    "epochs = 20\n",
    "data_len = len(translations)\n",
    "output_dim = len(char_to_int) + 2\n"
   ]
  },
  {
   "cell_type": "code",
   "execution_count": 29,
   "id": "gmgJqWZanuvF",
   "metadata": {
    "colab": {
     "base_uri": "https://localhost:8080/"
    },
    "id": "gmgJqWZanuvF",
    "outputId": "cab1d920-865b-499b-9928-7fbe79b4ceb4"
   },
   "outputs": [
    {
     "data": {
      "text/plain": [
       "221"
      ]
     },
     "execution_count": 29,
     "metadata": {
      "tags": []
     },
     "output_type": "execute_result"
    }
   ],
   "source": [
    "len(char_to_int)"
   ]
  },
  {
   "cell_type": "code",
   "execution_count": 19,
   "id": "cb25dda1",
   "metadata": {
    "colab": {
     "base_uri": "https://localhost:8080/"
    },
    "id": "cb25dda1",
    "outputId": "97387b13-319a-43c1-b5d0-02845b09227c"
   },
   "outputs": [
    {
     "name": "stdout",
     "output_type": "stream",
     "text": [
      "Model: \"preprocessin_model\"\n",
      "_________________________________________________________________\n",
      "Layer (type)                 Output Shape              Param #   \n",
      "=================================================================\n",
      "input (InputLayer)           [(None, None)]            0         \n",
      "_________________________________________________________________\n",
      "log_mel_spectrogram (LogMelS (None, None, 128, 1)      0         \n",
      "_________________________________________________________________\n",
      "batch_normalization (BatchNo (None, None, 128, 1)      4         \n",
      "=================================================================\n",
      "Total params: 4\n",
      "Trainable params: 2\n",
      "Non-trainable params: 2\n",
      "_________________________________________________________________\n"
     ]
    }
   ],
   "source": [
    "dg = DataGenerator(translations, audios, batch_size)\n",
    "preprocess_model = preprocessin_model(sample_rate, fft_size, frame_step, n_mels)\n",
    "preprocess_model.summary()"
   ]
  },
  {
   "cell_type": "code",
   "execution_count": null,
   "id": "myDkV2oA2YY5",
   "metadata": {
    "id": "myDkV2oA2YY5"
   },
   "outputs": [],
   "source": [
    "## Train using simple RNN model"
   ]
  },
  {
   "cell_type": "code",
   "execution_count": 20,
   "id": "e43ae703",
   "metadata": {
    "colab": {
     "base_uri": "https://localhost:8080/"
    },
    "id": "e43ae703",
    "outputId": "cfea7594-18e3-4d9b-b065-4c039ee53c4d"
   },
   "outputs": [
    {
     "name": "stdout",
     "output_type": "stream",
     "text": [
      "Model: \"simple_rnn_model\"\n",
      "_________________________________________________________________\n",
      "Layer (type)                 Output Shape              Param #   \n",
      "=================================================================\n",
      "the_input (InputLayer)       [(None, None, 128)]       0         \n",
      "_________________________________________________________________\n",
      "rnn (GRU)                    (None, None, 223)         236157    \n",
      "_________________________________________________________________\n",
      "softmax (Activation)         (None, None, 223)         0         \n",
      "=================================================================\n",
      "Total params: 236,157\n",
      "Trainable params: 236,157\n",
      "Non-trainable params: 0\n",
      "_________________________________________________________________\n"
     ]
    }
   ],
   "source": [
    "speech_simple_rnn = simple_rnn_model(n_mels, output_dim)\n",
    "speech_simple_rnn.summary()"
   ]
  },
  {
   "cell_type": "code",
   "execution_count": 22,
   "id": "b8e25a3f",
   "metadata": {
    "colab": {
     "base_uri": "https://localhost:8080/"
    },
    "id": "b8e25a3f",
    "outputId": "a6c54c9b-283f-449a-836e-b7e82c57eb2a"
   },
   "outputs": [
    {
     "name": "stdout",
     "output_type": "stream",
     "text": [
      "Model: \"model_builder\"\n",
      "_________________________________________________________________\n",
      "Layer (type)                 Output Shape              Param #   \n",
      "=================================================================\n",
      "the_input (InputLayer)       [(None, None)]            0         \n",
      "_________________________________________________________________\n",
      "preprocessin_model (Function (None, None, 128, 1)      4         \n",
      "_________________________________________________________________\n",
      "tf.compat.v1.squeeze_1 (TFOp (None, None, 128)         0         \n",
      "_________________________________________________________________\n",
      "simple_rnn_model (Functional (None, None, 223)         236157    \n",
      "=================================================================\n",
      "Total params: 236,161\n",
      "Trainable params: 236,159\n",
      "Non-trainable params: 2\n",
      "_________________________________________________________________\n"
     ]
    }
   ],
   "source": [
    "model = build_model(output_dim, speech_simple_rnn, preprocess_model)\n",
    "model.summary()"
   ]
  },
  {
   "cell_type": "code",
   "execution_count": 23,
   "id": "01feee42",
   "metadata": {
    "colab": {
     "base_uri": "https://localhost:8080/"
    },
    "id": "01feee42",
    "outputId": "194233ba-e825-40f5-d8bd-3629319d9c42"
   },
   "outputs": [
    {
     "name": "stdout",
     "output_type": "stream",
     "text": [
      "Model: \"model\"\n",
      "__________________________________________________________________________________________________\n",
      "Layer (type)                    Output Shape         Param #     Connected to                     \n",
      "==================================================================================================\n",
      "the_input (InputLayer)          [(None, None)]       0                                            \n",
      "__________________________________________________________________________________________________\n",
      "preprocessin_model (Functional) (None, None, 128, 1) 4           the_input[0][0]                  \n",
      "__________________________________________________________________________________________________\n",
      "tf.compat.v1.squeeze_1 (TFOpLam (None, None, 128)    0           preprocessin_model[1][0]         \n",
      "__________________________________________________________________________________________________\n",
      "input_length (InputLayer)       [(None, 1)]          0                                            \n",
      "__________________________________________________________________________________________________\n",
      "simple_rnn_model (Functional)   (None, None, 223)    236157      tf.compat.v1.squeeze_1[0][0]     \n",
      "__________________________________________________________________________________________________\n",
      "the_labels (InputLayer)         [(None, None)]       0                                            \n",
      "__________________________________________________________________________________________________\n",
      "lambda (Lambda)                 (None, 1)            0           input_length[0][0]               \n",
      "__________________________________________________________________________________________________\n",
      "label_length (InputLayer)       [(None, 1)]          0                                            \n",
      "__________________________________________________________________________________________________\n",
      "ctc (Lambda)                    (None, 1)            0           simple_rnn_model[1][0]           \n",
      "                                                                 the_labels[0][0]                 \n",
      "                                                                 lambda[0][0]                     \n",
      "                                                                 label_length[0][0]               \n",
      "==================================================================================================\n",
      "Total params: 236,161\n",
      "Trainable params: 236,159\n",
      "Non-trainable params: 2\n",
      "__________________________________________________________________________________________________\n",
      "None\n",
      "Epoch 1/20\n"
     ]
    },
    {
     "name": "stderr",
     "output_type": "stream",
     "text": [
      "/usr/local/lib/python3.7/dist-packages/tensorflow/python/keras/engine/training.py:1940: UserWarning: `Model.fit_generator` is deprecated and will be removed in a future version. Please use `Model.fit`, which supports generators.\n",
      "  warnings.warn('`Model.fit_generator` is deprecated and '\n"
     ]
    },
    {
     "name": "stdout",
     "output_type": "stream",
     "text": [
      "50/50 [==============================] - 19s 187ms/step - loss: 313.1605\n",
      "Epoch 2/20\n",
      "50/50 [==============================] - 9s 179ms/step - loss: 284.0161\n",
      "Epoch 3/20\n",
      "50/50 [==============================] - 10s 190ms/step - loss: 282.9048\n",
      "Epoch 4/20\n",
      "50/50 [==============================] - 9s 189ms/step - loss: 282.0558\n",
      "Epoch 5/20\n",
      "50/50 [==============================] - 9s 179ms/step - loss: 281.1305\n",
      "Epoch 6/20\n",
      "50/50 [==============================] - 9s 175ms/step - loss: 280.2415\n",
      "Epoch 7/20\n",
      "50/50 [==============================] - 9s 174ms/step - loss: 279.5344\n",
      "Epoch 8/20\n",
      "50/50 [==============================] - 9s 172ms/step - loss: 278.8882\n",
      "Epoch 9/20\n",
      "50/50 [==============================] - 9s 175ms/step - loss: 278.3039\n",
      "Epoch 10/20\n",
      "50/50 [==============================] - 9s 188ms/step - loss: 277.7701\n",
      "Epoch 11/20\n",
      "50/50 [==============================] - 10s 190ms/step - loss: 277.2624\n",
      "Epoch 12/20\n",
      "50/50 [==============================] - 10s 190ms/step - loss: 276.7870\n",
      "Epoch 13/20\n",
      "50/50 [==============================] - 9s 172ms/step - loss: 276.3266\n",
      "Epoch 14/20\n",
      "50/50 [==============================] - 9s 172ms/step - loss: 275.8876\n",
      "Epoch 15/20\n",
      "50/50 [==============================] - 9s 175ms/step - loss: 275.4695\n",
      "Epoch 16/20\n",
      "50/50 [==============================] - 9s 171ms/step - loss: 275.0764\n",
      "Epoch 17/20\n",
      "50/50 [==============================] - 9s 186ms/step - loss: 274.7140\n",
      "Epoch 18/20\n",
      "50/50 [==============================] - 10s 190ms/step - loss: 274.3674\n",
      "Epoch 19/20\n",
      "50/50 [==============================] - 9s 187ms/step - loss: 274.0453\n",
      "Epoch 20/20\n",
      "50/50 [==============================] - 9s 172ms/step - loss: 273.7418\n"
     ]
    },
    {
     "data": {
      "text/plain": [
       "<tensorflow.python.keras.engine.functional.Functional at 0x7f3c80515e10>"
      ]
     },
     "execution_count": 23,
     "metadata": {
      "tags": []
     },
     "output_type": "execute_result"
    }
   ],
   "source": [
    "# mlflow.set_experiment('Speech Model-RNN-baseline')\n",
    "# mlflow.tensorflow.autolog()\n",
    "train(model, 100, dg, epochs=20,  batch_size=100)"
   ]
  },
  {
   "cell_type": "code",
   "execution_count": 26,
   "id": "5qmBzRhlmmgh",
   "metadata": {
    "colab": {
     "base_uri": "https://localhost:8080/"
    },
    "id": "5qmBzRhlmmgh",
    "outputId": "a4c09cdf-c58d-411e-ecf4-f38b5c02f875"
   },
   "outputs": [
    {
     "name": "stdout",
     "output_type": "stream",
     "text": [
      "predicted የትየ ት ንየንየንትየትንትየንየ ንት ትየ የንትንየ ት ት ንትየት ን ን ንትየን የት\n",
      "actual የተለያዩ የ ትግራይ አውራጃ ተወላጆች ገንዘባቸው ን አዋጥ ተው የ ልማት ተቋማትን እንዲ መሰርቱ ትልማ አይ ፈቅድ ም\n"
     ]
    }
   ],
   "source": [
    "print(\"predicted\", predict(audios[0], tokenizer, int_to_char))\n",
    "print(\"actual\", translations[0])\n"
   ]
  },
  {
   "cell_type": "markdown",
   "id": "ELpBgKqpKLAt",
   "metadata": {
    "id": "ELpBgKqpKLAt"
   },
   "source": [
    "### `Using Bi-rnn`"
   ]
  },
  {
   "cell_type": "code",
   "execution_count": 30,
   "id": "4ocFWgzOKHj1",
   "metadata": {
    "colab": {
     "base_uri": "https://localhost:8080/"
    },
    "id": "4ocFWgzOKHj1",
    "outputId": "a252f416-d689-4dd6-9f8a-238a7640d757"
   },
   "outputs": [
    {
     "name": "stdout",
     "output_type": "stream",
     "text": [
      "Model: \"BidirectionalRNN\"\n",
      "_________________________________________________________________\n",
      "Layer (type)                 Output Shape              Param #   \n",
      "=================================================================\n",
      "the_input (InputLayer)       [(None, None, 128)]       0         \n",
      "_________________________________________________________________\n",
      "bidirectional_2 (Bidirection (None, None, 800)         1692800   \n",
      "_________________________________________________________________\n",
      "batch_normalization_3 (Batch (None, None, 800)         3200      \n",
      "_________________________________________________________________\n",
      "dropout_2 (Dropout)          (None, None, 800)         0         \n",
      "_________________________________________________________________\n",
      "bidirectional_3 (Bidirection (None, None, 800)         3843200   \n",
      "_________________________________________________________________\n",
      "batch_normalization_4 (Batch (None, None, 800)         3200      \n",
      "_________________________________________________________________\n",
      "dropout_3 (Dropout)          (None, None, 800)         0         \n",
      "_________________________________________________________________\n",
      "time_distributed_1 (TimeDist (None, None, 223)         178623    \n",
      "_________________________________________________________________\n",
      "softmax (Activation)         (None, None, 223)         0         \n",
      "=================================================================\n",
      "Total params: 5,721,023\n",
      "Trainable params: 5,717,823\n",
      "Non-trainable params: 3,200\n",
      "_________________________________________________________________\n"
     ]
    }
   ],
   "source": [
    "speech_BI_RNN_model = BidirectionalRNN(n_mels, batch_size=batch_size, output_dim=output_dim)\n",
    "speech_BI_RNN_model.summary()"
   ]
  },
  {
   "cell_type": "code",
   "execution_count": 31,
   "id": "RDnPaCNyKkAN",
   "metadata": {
    "colab": {
     "base_uri": "https://localhost:8080/"
    },
    "id": "RDnPaCNyKkAN",
    "outputId": "b67d26a3-c119-4a5d-e41e-80f7f235a3db"
   },
   "outputs": [
    {
     "name": "stdout",
     "output_type": "stream",
     "text": [
      "Model: \"model_builder\"\n",
      "_________________________________________________________________\n",
      "Layer (type)                 Output Shape              Param #   \n",
      "=================================================================\n",
      "the_input (InputLayer)       [(None, None)]            0         \n",
      "_________________________________________________________________\n",
      "preprocessin_model (Function (None, None, 128, 1)      4         \n",
      "_________________________________________________________________\n",
      "tf.compat.v1.squeeze_3 (TFOp (None, None, 128)         0         \n",
      "_________________________________________________________________\n",
      "BidirectionalRNN (Functional (None, None, 223)         5721023   \n",
      "=================================================================\n",
      "Total params: 5,721,027\n",
      "Trainable params: 5,717,825\n",
      "Non-trainable params: 3,202\n",
      "_________________________________________________________________\n"
     ]
    }
   ],
   "source": [
    "model = build_model(output_dim, speech_BI_RNN_model, preprocess_model)\n",
    "model.summary()"
   ]
  },
  {
   "cell_type": "code",
   "execution_count": 32,
   "id": "fgTz5_iBK18s",
   "metadata": {
    "colab": {
     "base_uri": "https://localhost:8080/"
    },
    "id": "fgTz5_iBK18s",
    "outputId": "a12efe26-5e45-48be-ab80-5294f5799ceb"
   },
   "outputs": [
    {
     "name": "stdout",
     "output_type": "stream",
     "text": [
      "Model: \"model_1\"\n",
      "__________________________________________________________________________________________________\n",
      "Layer (type)                    Output Shape         Param #     Connected to                     \n",
      "==================================================================================================\n",
      "the_input (InputLayer)          [(None, None)]       0                                            \n",
      "__________________________________________________________________________________________________\n",
      "preprocessin_model (Functional) (None, None, 128, 1) 4           the_input[0][0]                  \n",
      "__________________________________________________________________________________________________\n",
      "tf.compat.v1.squeeze_3 (TFOpLam (None, None, 128)    0           preprocessin_model[3][0]         \n",
      "__________________________________________________________________________________________________\n",
      "input_length (InputLayer)       [(None, 1)]          0                                            \n",
      "__________________________________________________________________________________________________\n",
      "BidirectionalRNN (Functional)   (None, None, 223)    5721023     tf.compat.v1.squeeze_3[0][0]     \n",
      "__________________________________________________________________________________________________\n",
      "the_labels (InputLayer)         [(None, None)]       0                                            \n",
      "__________________________________________________________________________________________________\n",
      "lambda_1 (Lambda)               (None, 1)            0           input_length[0][0]               \n",
      "__________________________________________________________________________________________________\n",
      "label_length (InputLayer)       [(None, 1)]          0                                            \n",
      "__________________________________________________________________________________________________\n",
      "ctc (Lambda)                    (None, 1)            0           BidirectionalRNN[0][0]           \n",
      "                                                                 the_labels[0][0]                 \n",
      "                                                                 lambda_1[0][0]                   \n",
      "                                                                 label_length[0][0]               \n",
      "==================================================================================================\n",
      "Total params: 5,721,027\n",
      "Trainable params: 5,717,825\n",
      "Non-trainable params: 3,202\n",
      "__________________________________________________________________________________________________\n",
      "None\n",
      "Epoch 1/20\n"
     ]
    },
    {
     "name": "stderr",
     "output_type": "stream",
     "text": [
      "/usr/local/lib/python3.7/dist-packages/tensorflow/python/keras/engine/training.py:1940: UserWarning: `Model.fit_generator` is deprecated and will be removed in a future version. Please use `Model.fit`, which supports generators.\n",
      "  warnings.warn('`Model.fit_generator` is deprecated and '\n"
     ]
    },
    {
     "name": "stdout",
     "output_type": "stream",
     "text": [
      "50/50 [==============================] - 29s 465ms/step - loss: 209.8096\n",
      "Epoch 2/20\n",
      "50/50 [==============================] - 24s 472ms/step - loss: 176.6033\n",
      "Epoch 3/20\n",
      "50/50 [==============================] - 24s 474ms/step - loss: 162.0095\n",
      "Epoch 4/20\n",
      "50/50 [==============================] - 24s 484ms/step - loss: 143.4523\n",
      "Epoch 5/20\n",
      "50/50 [==============================] - 24s 482ms/step - loss: 123.1579\n",
      "Epoch 6/20\n",
      "50/50 [==============================] - 24s 479ms/step - loss: 104.8994\n",
      "Epoch 7/20\n",
      "50/50 [==============================] - 25s 490ms/step - loss: 89.4116\n",
      "Epoch 8/20\n",
      "50/50 [==============================] - 24s 486ms/step - loss: 77.0657\n",
      "Epoch 9/20\n",
      "50/50 [==============================] - 24s 487ms/step - loss: 67.5390\n",
      "Epoch 10/20\n",
      "50/50 [==============================] - 25s 493ms/step - loss: 59.8099\n",
      "Epoch 11/20\n",
      "50/50 [==============================] - 25s 496ms/step - loss: 53.4755\n",
      "Epoch 12/20\n",
      "50/50 [==============================] - 24s 487ms/step - loss: 48.0754\n",
      "Epoch 13/20\n",
      "50/50 [==============================] - 24s 489ms/step - loss: 43.3568\n",
      "Epoch 14/20\n",
      "50/50 [==============================] - 25s 497ms/step - loss: 39.3824\n",
      "Epoch 15/20\n",
      "50/50 [==============================] - 25s 489ms/step - loss: 35.6141\n",
      "Epoch 16/20\n",
      "50/50 [==============================] - 25s 494ms/step - loss: 32.4763\n",
      "Epoch 17/20\n",
      "50/50 [==============================] - 25s 493ms/step - loss: 29.3711\n",
      "Epoch 18/20\n",
      "50/50 [==============================] - 24s 487ms/step - loss: 26.6961\n",
      "Epoch 19/20\n",
      "50/50 [==============================] - 25s 499ms/step - loss: 24.2008\n",
      "Epoch 20/20\n",
      "50/50 [==============================] - 25s 491ms/step - loss: 22.0257\n"
     ]
    },
    {
     "data": {
      "text/plain": [
       "<tensorflow.python.keras.engine.functional.Functional at 0x7f3c6e647a90>"
      ]
     },
     "execution_count": 32,
     "metadata": {
      "tags": []
     },
     "output_type": "execute_result"
    }
   ],
   "source": [
    "train(model, 100, dg, epochs=20,  batch_size=100)"
   ]
  },
  {
   "cell_type": "code",
   "execution_count": 34,
   "id": "lKiE8vLxsNfy",
   "metadata": {
    "colab": {
     "base_uri": "https://localhost:8080/"
    },
    "id": "lKiE8vLxsNfy",
    "outputId": "e504b8fb-f3d1-4b74-b46c-9e9d9caa4106"
   },
   "outputs": [
    {
     "name": "stdout",
     "output_type": "stream",
     "text": [
      "Model: \"model_builder\"\n",
      "_________________________________________________________________\n",
      "Layer (type)                 Output Shape              Param #   \n",
      "=================================================================\n",
      "the_input (InputLayer)       [(None, None)]            0         \n",
      "_________________________________________________________________\n",
      "preprocessin_model (Function (None, None, 128, 1)      4         \n",
      "_________________________________________________________________\n",
      "tf.compat.v1.squeeze_3 (TFOp (None, None, 128)         0         \n",
      "_________________________________________________________________\n",
      "BidirectionalRNN (Functional (None, None, 223)         5721023   \n",
      "=================================================================\n",
      "Total params: 5,721,027\n",
      "Trainable params: 5,717,825\n",
      "Non-trainable params: 3,202\n",
      "_________________________________________________________________\n"
     ]
    }
   ],
   "source": [
    "model.summary()"
   ]
  },
  {
   "cell_type": "code",
   "execution_count": 39,
   "id": "FvQ1CePFsNqh",
   "metadata": {
    "colab": {
     "base_uri": "https://localhost:8080/"
    },
    "id": "FvQ1CePFsNqh",
    "outputId": "0f78b9f7-c3f6-4379-da0e-fd1a40a58c80"
   },
   "outputs": [
    {
     "name": "stdout",
     "output_type": "stream",
     "text": [
      "predicted  ስ ሻ ሻና ሻ ረሻ ሻ ሻረሻ ሻ ሻ ሻ ሻር ስትስትስት ስት \n",
      "actual ያ ኮምፒ ተር ለ ተጠቃሚው በ ትክክል የሚ ፈለገው ን ነገር እንዲ ያሟላ ማድረግ ነው\n"
     ]
    }
   ],
   "source": [
    "print(\"predicted\", predict(model, audios[10], tokenizer, int_to_char))\n",
    "print(\"actual\", translations[10])"
   ]
  },
  {
   "cell_type": "code",
   "execution_count": null,
   "id": "jlPXyg-VsNv9",
   "metadata": {
    "id": "jlPXyg-VsNv9"
   },
   "outputs": [],
   "source": []
  },
  {
   "cell_type": "code",
   "execution_count": null,
   "id": "w3VPIL4TsUhA",
   "metadata": {
    "id": "w3VPIL4TsUhA"
   },
   "outputs": [],
   "source": []
  },
  {
   "cell_type": "code",
   "execution_count": null,
   "id": "cN2FhIzesUkJ",
   "metadata": {
    "id": "cN2FhIzesUkJ"
   },
   "outputs": [],
   "source": []
  },
  {
   "cell_type": "code",
   "execution_count": 41,
   "id": "c5_yjPICsUoR",
   "metadata": {
    "colab": {
     "base_uri": "https://localhost:8080/"
    },
    "id": "c5_yjPICsUoR",
    "outputId": "214cf949-b70c-4c1c-df71-9a9e01079612"
   },
   "outputs": [
    {
     "name": "stdout",
     "output_type": "stream",
     "text": [
      "Model: \"preprocessin_model\"\n",
      "_________________________________________________________________\n",
      "Layer (type)                 Output Shape              Param #   \n",
      "=================================================================\n",
      "input (InputLayer)           [(None, None)]            0         \n",
      "_________________________________________________________________\n",
      "log_mel_spectrogram (LogMelS (None, None, 128, 1)      0         \n",
      "_________________________________________________________________\n",
      "batch_normalization (BatchNo (None, None, 128, 1)      4         \n",
      "=================================================================\n",
      "Total params: 4\n",
      "Trainable params: 2\n",
      "Non-trainable params: 2\n",
      "_________________________________________________________________\n"
     ]
    }
   ],
   "source": [
    "preprocess_model.summary()"
   ]
  },
  {
   "cell_type": "code",
   "execution_count": null,
   "id": "8I9rcUBqsUsE",
   "metadata": {
    "id": "8I9rcUBqsUsE"
   },
   "outputs": [],
   "source": [
    "### Using CNN and BI-RNN"
   ]
  },
  {
   "cell_type": "code",
   "execution_count": 40,
   "id": "TWJKaf3lo7_z",
   "metadata": {
    "id": "TWJKaf3lo7_z"
   },
   "outputs": [],
   "source": [
    "from tensorflow.keras.layers import * \n",
    "\n",
    "def CNN_net(n_mels,feat_depth, batch_size):\n",
    "    input_data = Input(name='the_input', shape=(\n",
    "          None, n_mels, 1))\n",
    "    y = Conv2D(128, (3, 3), padding='same')(input_data)  # was 32\n",
    "    y = Activation('relu')(y)\n",
    "    y = BatchNormalization()(y)\n",
    "    y = MaxPooling2D((1, 2))(y)\n",
    "\n",
    "    y = Conv2D(64, (3, 3), padding='same')(y)  # was 32\n",
    "    y = Activation('relu')(y)\n",
    "    y = BatchNormalization()(y)\n",
    "    y = MaxPooling2D((1, 2))(y)\n",
    "\n",
    "    y = Conv2D(64, (3, 3), padding='same')(y)  # was 32\n",
    "    y = Activation('relu')(y)\n",
    "    y = BatchNormalization()(y)\n",
    "    y = MaxPooling2D((1, 2))(y)\n",
    "\n",
    "    y = Reshape((-1, y.shape[-1] * y.shape[-2]))(y)\n",
    "\n",
    "\n",
    "\n",
    "\n",
    "    model = Model(inputs=input_data, outputs=y, name=\"cnn\")\n",
    "    return model, model.output.shape"
   ]
  },
  {
   "cell_type": "code",
   "execution_count": 42,
   "id": "RJBipVrVyD18",
   "metadata": {
    "colab": {
     "base_uri": "https://localhost:8080/"
    },
    "id": "RJBipVrVyD18",
    "outputId": "5a5cf706-a5b5-417a-ffd0-d50a971669a3"
   },
   "outputs": [
    {
     "name": "stdout",
     "output_type": "stream",
     "text": [
      "Model: \"cnn\"\n",
      "_________________________________________________________________\n",
      "Layer (type)                 Output Shape              Param #   \n",
      "=================================================================\n",
      "the_input (InputLayer)       [(None, None, 128, 1)]    0         \n",
      "_________________________________________________________________\n",
      "conv2d (Conv2D)              (None, None, 128, 128)    1280      \n",
      "_________________________________________________________________\n",
      "activation (Activation)      (None, None, 128, 128)    0         \n",
      "_________________________________________________________________\n",
      "batch_normalization_5 (Batch (None, None, 128, 128)    512       \n",
      "_________________________________________________________________\n",
      "max_pooling2d (MaxPooling2D) (None, None, 64, 128)     0         \n",
      "_________________________________________________________________\n",
      "conv2d_1 (Conv2D)            (None, None, 64, 64)      73792     \n",
      "_________________________________________________________________\n",
      "activation_1 (Activation)    (None, None, 64, 64)      0         \n",
      "_________________________________________________________________\n",
      "batch_normalization_6 (Batch (None, None, 64, 64)      256       \n",
      "_________________________________________________________________\n",
      "max_pooling2d_1 (MaxPooling2 (None, None, 32, 64)      0         \n",
      "_________________________________________________________________\n",
      "conv2d_2 (Conv2D)            (None, None, 32, 64)      36928     \n",
      "_________________________________________________________________\n",
      "activation_2 (Activation)    (None, None, 32, 64)      0         \n",
      "_________________________________________________________________\n",
      "batch_normalization_7 (Batch (None, None, 32, 64)      256       \n",
      "_________________________________________________________________\n",
      "max_pooling2d_2 (MaxPooling2 (None, None, 16, 64)      0         \n",
      "_________________________________________________________________\n",
      "reshape (Reshape)            (None, None, 1024)        0         \n",
      "=================================================================\n",
      "Total params: 113,024\n",
      "Trainable params: 112,512\n",
      "Non-trainable params: 512\n",
      "_________________________________________________________________\n"
     ]
    },
    {
     "data": {
      "text/plain": [
       "(None, TensorShape([None, None, 1024]))"
      ]
     },
     "execution_count": 42,
     "metadata": {
      "tags": []
     },
     "output_type": "execute_result"
    }
   ],
   "source": [
    "cnn_model, cnn_shape = CNN_net(128,227, 100)\n",
    "cnn_model.summary(), cnn_shape"
   ]
  },
  {
   "cell_type": "code",
   "execution_count": 59,
   "id": "v4A5S0WY3Ye1",
   "metadata": {
    "id": "v4A5S0WY3Ye1"
   },
   "outputs": [],
   "source": [
    "def BidirectionalRNN2(input_dim, batch_size, sample_rate=22000,\n",
    "                     rnn_layers=2, units=400, drop_out=0.5, act='tanh', output_dim=224):\n",
    "\n",
    "    input_data = Input(name='the_input', shape=(\n",
    "        None, input_dim))\n",
    "    \n",
    "\n",
    "\n",
    "    \n",
    "    x = Bidirectional(LSTM(units,  activation=act,\n",
    "                      return_sequences=True, implementation=2))(input_data)\n",
    "    \n",
    "    x = BatchNormalization()(x)\n",
    "    x = Dropout(drop_out)(x)\n",
    "\n",
    "    for i in range(rnn_layers - 2):\n",
    "        x = Bidirectional(\n",
    "            LSTM(units, activation=act, return_sequences=True))(x)\n",
    "        x = BatchNormalization()(x)\n",
    "        x = Dropout(drop_out)(x)\n",
    "\n",
    "    x = Bidirectional(LSTM(units,  activation=act,\n",
    "                      return_sequences=True, implementation=2))(x)\n",
    "    x = BatchNormalization()(x)\n",
    "    x = Dropout(drop_out)(x)\n",
    "\n",
    "    time_dense = TimeDistributed(Dense(output_dim))(x)\n",
    "\n",
    "    y_pred = Activation('softmax', name='softmax')(time_dense)\n",
    "\n",
    "    model = Model(inputs=input_data, outputs=y_pred, name=\"BidirectionalRNN\")\n",
    "\n",
    "    return model"
   ]
  },
  {
   "cell_type": "code",
   "execution_count": 60,
   "id": "6wTL17mK3hg4",
   "metadata": {
    "colab": {
     "base_uri": "https://localhost:8080/"
    },
    "id": "6wTL17mK3hg4",
    "outputId": "a6bc6006-c1ac-4b29-b438-6b0b41b218a2"
   },
   "outputs": [
    {
     "name": "stdout",
     "output_type": "stream",
     "text": [
      "Model: \"BidirectionalRNN\"\n",
      "_________________________________________________________________\n",
      "Layer (type)                 Output Shape              Param #   \n",
      "=================================================================\n",
      "the_input (InputLayer)       [(None, None, 1024)]      0         \n",
      "_________________________________________________________________\n",
      "bidirectional_10 (Bidirectio (None, None, 800)         4560000   \n",
      "_________________________________________________________________\n",
      "batch_normalization_14 (Batc (None, None, 800)         3200      \n",
      "_________________________________________________________________\n",
      "dropout_10 (Dropout)         (None, None, 800)         0         \n",
      "_________________________________________________________________\n",
      "bidirectional_11 (Bidirectio (None, None, 800)         3843200   \n",
      "_________________________________________________________________\n",
      "batch_normalization_15 (Batc (None, None, 800)         3200      \n",
      "_________________________________________________________________\n",
      "dropout_11 (Dropout)         (None, None, 800)         0         \n",
      "_________________________________________________________________\n",
      "time_distributed_5 (TimeDist (None, None, 223)         178623    \n",
      "_________________________________________________________________\n",
      "softmax (Activation)         (None, None, 223)         0         \n",
      "=================================================================\n",
      "Total params: 8,588,223\n",
      "Trainable params: 8,585,023\n",
      "Non-trainable params: 3,200\n",
      "_________________________________________________________________\n"
     ]
    }
   ],
   "source": [
    "speech_model2 = BidirectionalRNN2(1024, batch_size=batch_size, output_dim=output_dim)\n",
    "speech_model2.summary()"
   ]
  },
  {
   "cell_type": "code",
   "execution_count": 61,
   "id": "fA-kpf8c5a0W",
   "metadata": {
    "id": "fA-kpf8c5a0W"
   },
   "outputs": [],
   "source": [
    "def build_model2(output_dim, cnn_model, custom_model, preprocess_model, mfcc=False, calc=None):\n",
    "\n",
    "    input_audios = Input(name='the_input', shape=(None,))\n",
    "    pre = preprocess_model(input_audios)\n",
    "    pre = tf.squeeze(pre, [3])\n",
    "\n",
    "    cnn_output = cnn_model(pre)\n",
    "\n",
    "    y_pred = custom_model(cnn_output)\n",
    "    model = Model(inputs=input_audios, outputs=y_pred, name=\"model_builder\")\n",
    "    model.output_length = calc\n",
    "\n",
    "    return model"
   ]
  },
  {
   "cell_type": "code",
   "execution_count": 62,
   "id": "jmo82oGp5xa8",
   "metadata": {
    "colab": {
     "base_uri": "https://localhost:8080/"
    },
    "id": "jmo82oGp5xa8",
    "outputId": "082b301c-e29a-468f-d3b8-8554f42b7b2e"
   },
   "outputs": [
    {
     "name": "stdout",
     "output_type": "stream",
     "text": [
      "Model: \"model_builder\"\n",
      "_________________________________________________________________\n",
      "Layer (type)                 Output Shape              Param #   \n",
      "=================================================================\n",
      "the_input (InputLayer)       [(None, None)]            0         \n",
      "_________________________________________________________________\n",
      "preprocessin_model (Function (None, None, 128, 1)      4         \n",
      "_________________________________________________________________\n",
      "tf.compat.v1.squeeze_5 (TFOp (None, None, 128)         0         \n",
      "_________________________________________________________________\n",
      "cnn (Functional)             (None, None, 1024)        113024    \n",
      "_________________________________________________________________\n",
      "BidirectionalRNN (Functional (None, None, 223)         8588223   \n",
      "=================================================================\n",
      "Total params: 8,701,251\n",
      "Trainable params: 8,697,537\n",
      "Non-trainable params: 3,714\n",
      "_________________________________________________________________\n"
     ]
    }
   ],
   "source": [
    "model3 = build_model2(output_dim, cnn_model, speech_model2, preprocess_model)\n",
    "model3.summary()"
   ]
  },
  {
   "cell_type": "code",
   "execution_count": 65,
   "id": "VpezKF8CAReX",
   "metadata": {
    "colab": {
     "base_uri": "https://localhost:8080/"
    },
    "id": "VpezKF8CAReX",
    "outputId": "cf177951-1522-4b42-fd57-aa81a00cfec6"
   },
   "outputs": [
    {
     "name": "stdout",
     "output_type": "stream",
     "text": [
      "Model: \"model_4\"\n",
      "__________________________________________________________________________________________________\n",
      "Layer (type)                    Output Shape         Param #     Connected to                     \n",
      "==================================================================================================\n",
      "the_input (InputLayer)          [(None, None)]       0                                            \n",
      "__________________________________________________________________________________________________\n",
      "preprocessin_model (Functional) (None, None, 128, 1) 4           the_input[0][0]                  \n",
      "__________________________________________________________________________________________________\n",
      "tf.compat.v1.squeeze_5 (TFOpLam (None, None, 128)    0           preprocessin_model[5][0]         \n",
      "__________________________________________________________________________________________________\n",
      "cnn (Functional)                (None, None, 1024)   113024      tf.compat.v1.squeeze_5[0][0]     \n",
      "__________________________________________________________________________________________________\n",
      "input_length (InputLayer)       [(None, 1)]          0                                            \n",
      "__________________________________________________________________________________________________\n",
      "BidirectionalRNN (Functional)   (None, None, 223)    8588223     cnn[1][0]                        \n",
      "__________________________________________________________________________________________________\n",
      "the_labels (InputLayer)         [(None, None)]       0                                            \n",
      "__________________________________________________________________________________________________\n",
      "lambda_4 (Lambda)               (None, 1)            0           input_length[0][0]               \n",
      "__________________________________________________________________________________________________\n",
      "label_length (InputLayer)       [(None, 1)]          0                                            \n",
      "__________________________________________________________________________________________________\n",
      "ctc (Lambda)                    (None, 1)            0           BidirectionalRNN[0][0]           \n",
      "                                                                 the_labels[0][0]                 \n",
      "                                                                 lambda_4[0][0]                   \n",
      "                                                                 label_length[0][0]               \n",
      "==================================================================================================\n",
      "Total params: 8,701,251\n",
      "Trainable params: 8,697,537\n",
      "Non-trainable params: 3,714\n",
      "__________________________________________________________________________________________________\n",
      "None\n",
      "Epoch 1/40\n"
     ]
    },
    {
     "name": "stderr",
     "output_type": "stream",
     "text": [
      "/usr/local/lib/python3.7/dist-packages/tensorflow/python/keras/engine/training.py:1940: UserWarning: `Model.fit_generator` is deprecated and will be removed in a future version. Please use `Model.fit`, which supports generators.\n",
      "  warnings.warn('`Model.fit_generator` is deprecated and '\n"
     ]
    },
    {
     "name": "stdout",
     "output_type": "stream",
     "text": [
      "50/50 [==============================] - 52s 962ms/step - loss: 172.7012\n",
      "Epoch 2/40\n",
      "50/50 [==============================] - 49s 977ms/step - loss: 148.8477\n",
      "Epoch 3/40\n",
      "50/50 [==============================] - 49s 986ms/step - loss: 118.5990\n",
      "Epoch 4/40\n",
      "50/50 [==============================] - 50s 993ms/step - loss: 90.4535\n",
      "Epoch 5/40\n",
      "50/50 [==============================] - 50s 998ms/step - loss: 71.2924\n",
      "Epoch 6/40\n",
      "50/50 [==============================] - 50s 996ms/step - loss: 58.6276\n",
      "Epoch 7/40\n",
      "50/50 [==============================] - 50s 995ms/step - loss: 49.3345\n",
      "Epoch 8/40\n",
      "50/50 [==============================] - 50s 996ms/step - loss: 41.9719\n",
      "Epoch 9/40\n",
      "50/50 [==============================] - 50s 994ms/step - loss: 35.8753\n",
      "Epoch 10/40\n",
      "50/50 [==============================] - 49s 989ms/step - loss: 30.4817\n",
      "Epoch 11/40\n",
      "50/50 [==============================] - 50s 989ms/step - loss: 25.8971\n",
      "Epoch 12/40\n",
      "50/50 [==============================] - 50s 996ms/step - loss: 21.6707\n",
      "Epoch 13/40\n",
      "50/50 [==============================] - 50s 991ms/step - loss: 18.0877\n",
      "Epoch 14/40\n",
      "50/50 [==============================] - 50s 994ms/step - loss: 15.1630\n",
      "Epoch 15/40\n",
      "50/50 [==============================] - 50s 992ms/step - loss: 12.5010\n",
      "Epoch 16/40\n",
      "50/50 [==============================] - 50s 992ms/step - loss: 10.2730\n",
      "Epoch 17/40\n",
      "50/50 [==============================] - 49s 987ms/step - loss: 8.3434\n",
      "Epoch 18/40\n",
      "50/50 [==============================] - 50s 996ms/step - loss: 6.8841\n",
      "Epoch 19/40\n",
      "50/50 [==============================] - 49s 988ms/step - loss: 5.7405\n",
      "Epoch 20/40\n",
      "50/50 [==============================] - 50s 993ms/step - loss: 4.8382\n",
      "Epoch 21/40\n",
      "50/50 [==============================] - 50s 995ms/step - loss: 4.0763\n",
      "Epoch 22/40\n",
      "50/50 [==============================] - 50s 991ms/step - loss: 3.4484\n",
      "Epoch 23/40\n",
      "50/50 [==============================] - 50s 990ms/step - loss: 2.9977\n",
      "Epoch 24/40\n",
      "50/50 [==============================] - 50s 995ms/step - loss: 2.6848\n",
      "Epoch 25/40\n",
      "50/50 [==============================] - 50s 993ms/step - loss: 2.3890\n",
      "Epoch 26/40\n",
      "50/50 [==============================] - 50s 995ms/step - loss: 2.1060\n",
      "Epoch 27/40\n",
      "50/50 [==============================] - 50s 991ms/step - loss: 1.8554\n",
      "Epoch 28/40\n",
      "50/50 [==============================] - 50s 991ms/step - loss: 1.7540\n",
      "Epoch 29/40\n",
      "50/50 [==============================] - 50s 993ms/step - loss: 1.6118\n",
      "Epoch 30/40\n",
      "50/50 [==============================] - 50s 991ms/step - loss: 1.4718\n",
      "Epoch 31/40\n",
      "50/50 [==============================] - 50s 993ms/step - loss: 1.3594\n",
      "Epoch 32/40\n",
      "50/50 [==============================] - 50s 992ms/step - loss: 1.2511\n",
      "Epoch 33/40\n",
      "50/50 [==============================] - 50s 991ms/step - loss: 1.2013\n",
      "Epoch 34/40\n",
      "50/50 [==============================] - 50s 991ms/step - loss: 1.0695\n",
      "Epoch 35/40\n",
      "50/50 [==============================] - 49s 987ms/step - loss: 1.0283\n",
      "Epoch 36/40\n",
      "50/50 [==============================] - 50s 990ms/step - loss: 0.9469\n",
      "Epoch 37/40\n",
      "50/50 [==============================] - 50s 992ms/step - loss: 0.9162\n",
      "Epoch 38/40\n",
      "50/50 [==============================] - 50s 990ms/step - loss: 0.8444\n",
      "Epoch 39/40\n",
      "50/50 [==============================] - 50s 994ms/step - loss: 0.8118\n",
      "Epoch 40/40\n",
      "50/50 [==============================] - 50s 990ms/step - loss: 0.7793\n"
     ]
    },
    {
     "data": {
      "text/plain": [
       "<tensorflow.python.keras.engine.functional.Functional at 0x7f3c7df748d0>"
      ]
     },
     "execution_count": 65,
     "metadata": {
      "tags": []
     },
     "output_type": "execute_result"
    }
   ],
   "source": [
    "train(model3, 100, dg, epochs=40,  batch_size=100)"
   ]
  },
  {
   "cell_type": "code",
   "execution_count": 76,
   "id": "SYqCyyi0SIYG",
   "metadata": {
    "colab": {
     "base_uri": "https://localhost:8080/"
    },
    "id": "SYqCyyi0SIYG",
    "outputId": "4e1565f9-9ebf-41ef-fe3e-798191305723"
   },
   "outputs": [
    {
     "name": "stdout",
     "output_type": "stream",
     "text": [
      "predicted በአዚህ ና ን ዋ ዋ ያ ተ ና ያናያ ያ ተ መ ያ ያ ያና ና ና ና ና ና ናን ተና ና ንና ህ ናት ህ ህስ ስ ህስህትስት ስምን ን ማ ለን ህናህት ትገ ዮች \n",
      "actual ከ ግዛታቸው ዋ ና ከተማ ጋሪ ስ ሆነው በ ስልክ ሚስተር ሞሪስ ከ ስደተኞቹ ከ ኬንያ የ መጡ ናቸው ብላ ኢትዮጵያ መግለጿ እንዳስ ገረማቸው ገልጸዋል\n",
      "\n",
      "predicted ዚህማ ካሰራስራ ማ ማህማ ስ ስ ስማስ ስያ ሰራ ራ ራ ራዋ ሲራ ራ ሰራ ራስራ አራ ማ ስራስራ ኤ ስያጭ በራ ስሪስራ ስ ስ ስራ ራዋ በ በ ስራዋ ግስ ማ በሳማአራ ራአ ኲኰህኰጃህጃህ\n",
      "actual ከ እረፍት መልስ ከ ስድስት ደቂቃዎች በኋላ የ ባንኩ አስር ቁጥር ዋቅጅራ አን በሴ ሶስተኛው ን ግብ ማስቆጠሩ ቡና ዎችን ተስፋ አስቆርጧ ቸዋል\n",
      "\n",
      "predicted ጥህ ተናእንት ለ ጭንባ ወ አቃው \n",
      "actual የ ሰርጉ ወጥ ኩ ችም ተደርጐ ነው የ ተሰራው\n",
      "\n",
      "predicted ሶጃጥተቃጥ ናቶ ዋ ን የ ለቃች ተች ና በ ናዳያ ዳነ ነዳቁዳ ንጭን በ ቀጃች ቀች ሽን ቀት ን ቀጥችት ጃ ቃቀች ች ጃ ዳጃ ያ የነውት ን ነ ን ዳ ጭ ተ ትዳች ተዊ ቀሎፍጹፍንም\n",
      "actual አለቃ የጻፏቸው መጽሀፍት ውድ ና ጣፋጭ ከ መሆናቸው የተነሳ በ ህትመታቸው ወቅት ገዝተው ከሚ ጠቀሙ ት ብልህ ዎች በስተቀር ዘግይተው የ ሚፈልጓቸው ሰዎች አ ያገኟቸው ም\n",
      "\n",
      "predicted ይህ ጃት ና መ የ ት ጥ ረ መለ ስና ለ ን ን ች ናስት ቀናት ናለ አ አ ረ ያው ንጠአጠ ጃቻቀ\n",
      "actual የኤርትራ መንግስት ከ ደረሰበት የ ኢኮኖሚ ቀውስ ለ ማገገም የ ቦንድ ሽያጭ እንቅስቃሴ የ መገናኛ ብዙሀን አደባባይ እያ ወጡ ናቸው\n",
      "\n",
      "predicted አህምት ና ን ሚት ሰ ራየ ዳና ጠንሚያናን ናዳ ች ና ነረና ና ሀላን የትየን ድር ትን ያትዳ ቀት ት ት ት ወ ጃቀን ንቀ ለጡ ች\n",
      "actual ኢትዮጵያ በ አሁኑ ወቅት በርካታ ኢንቨስተሮች ን በ ማስተናገድ ላይ ነች በ ማለት የ ወረራው አን ኳር ምክንያት በ ኤርትራ ላይ የ ደረስ ኢኮኖሚያዊ ቀውስ መሆኑን ገልጿ ል\n",
      "\n",
      "predicted ዚ የተ ት ምጥሮ ጥ በ በ ጭ ራያ ጭም ያ ጭት \n",
      "actual የ ሰዉን ሁሉ እዳ ሰራዧ እሷ ው ሆ ናለች አሉ\n",
      "\n",
      "predicted ከዚ ሽራ አ ቅአስ ድስት ት ስያ ግስትሪ ሪ ድስ ረ ስ ቃ ያ አባዎች አ አ\n",
      "actual ከ አስመራ ከ አሰብ ከ ምጽዋ ኢትዮጵያውያ ን ን ንብረታቸው ን እየ ቀማ አባ ሯል\n",
      "\n",
      "predicted አገ ሪ ተ ተ ሪን ሪቀ አንአ አ \n",
      "actual ወደ አገራቸው ሊ ወስዷቸው ነው አለ ኝ\n",
      "\n",
      "predicted ግናሩና ስ ስ ስራዋን ን በራማራን ሰስ ሰባ ተባ ባ ረ ሽ ረ ን ባራዋ ያስጭ ጭ ራረች \n",
      "actual እንደ አቶ ጌታሁን ገለጻ የ ሳኡዲ ጀርመን ሆስፒታል የ ህክምና ስህተት መፈጸሙ ን ያመነ ሲሆን ቆንሲላ ውም የተለያዩ ማስረጃዎች ን ሰብ ስቧል\n",
      "\n",
      "predicted ከዚህ ተ ላ ያ የ ርትራ ል ላ ል ኑ ቀ ን ረ ቱህ \n",
      "actual ባድመ ላይ ያለቀው የኤርትራ ወታደር ስፍር ቁጥር የ ለውም\n",
      "\n",
      "predicted ከሶቶ ሪ ሰሪ ተ ተሪ ጭ ሰተሪ አታጭ አ\n",
      "actual ሪፖርተሩ ሁኔታው ን እንደሚ ከተለው አጠናቅ ሮ ታል\n",
      "\n",
      "predicted ሶስኤያራ ስራ ወ የ ቀ ን ያ የ ራታ ጭ ጭችን ህን \n",
      "actual ኤርትራ የሚኖሩ አብዛኛዎቹ ኢትዮጵያውያ ን የሚያስ ጠቁ ን ሰላዮች ናቸው\n",
      "\n",
      "predicted ኤች ናሽዳንና ች ድት ተ ይ ይ ይደ ይ ሪያ አ ባ ባ ዳ ጉ ተራ ራች ች ነ ና ን ዴ ን ዳ ርያ ያ ን ያ ራን ያ ያ ያ ያ ቻ \n",
      "actual አንዳንድ ተመልካቾች ና ውስጥ አዋቂዎች እንደሚ ናገሩት ኤርትራ ና አንጐላ በ ጉብኝቱ ፕሮግራም ስላል ታቀፉ ዋሽንግተን ዲሲ የሚገኙ ዲፕሎማቶ ቻቸው ቅሬታ እያ ሰሙ ናቸው\n",
      "\n",
      "predicted ዚጵያ ላ ላያ ላ ላ ላ ቀ ጭን በ ያስ ቅል ቅን \n",
      "actual ከ እንግዲህ የማ ደርገው ን በ ሚስጥር ልንገር ህ\n",
      "\n",
      "predicted ከዚህበ ሰ ሰሪ ሪባረያ አስ በ አበራ አራስ ስ በሰራ በሪ በሰራሰራ ጭ ራ ራ ራ ሰራቃቂ ታቂህበተ\n",
      "actual የ ክለቦቹ ዋነኛ አላማ ለ ሀገሪቱ ዋ እግር ኳስ እድገት የ በኩላቸው ን አስተዋጽኦ ማበርከት ነው\n",
      "\n",
      "predicted ን ጅ ተበይን ታ ተ ታዎሪ ንጅን \n",
      "actual ዶክተር በየነ ጴጥሮስ ገልጸዋል\n",
      "\n",
      "predicted ጥቶፍትህጥ ለናለን ንነት ን ን ወት ን ና ንነ ነን ዳን ና ትች ትተቁትች ን ንነዳያ ዳችትች ዳቀች ች ተ ተረነትነ ነ ዳን ተዳ ዳን ተ ቀ ት ት ቀ ጭቀዊ ጭ ጭቀታጭታህን\n",
      "actual ትናንት ማምሻው ን የ ትምህርት ሚኒስትሯ ወይዘሮ ገነት ዘውዴ የ ፖሊስ ሀይል ወደ ዩኒቨርስቲ ው ገብቶ የተፈጠረ ውን ሁኔታ እንዲ ቆጣጠር ትእዛዝ ማስተላለፋቸው ተገለጠ\n",
      "\n",
      "predicted በ በላ ያ ተራ ተቀ ተአተ ተ ቀዲ ስአልራተቀይ ዋ ዋቃት \n",
      "actual አብያተ ሞራል የነበሩ ተቋማት ም ም ን እንዳጋ ጠማቸው የምና የ ው ነው\n",
      "\n",
      "predicted ኒ ከ ኤ ማሪ ሪአ ረ አ ቃው ሽበን ሽ አ አ አህአህተ\n",
      "actual ውጭው ያማረ ህንጻ ውስጡ የ ጠነ ባ\n",
      "\n"
     ]
    }
   ],
   "source": [
    "import random\n",
    "for i in range(20):\n",
    "\n",
    "  ind = random.randint(0, 3000)\n",
    "\n",
    "  print(\"predicted\", predict(model3, audios[ind], tokenizer, int_to_char))\n",
    "  print(\"actual\", translations[ind])\n",
    "  print()"
   ]
  },
  {
   "cell_type": "code",
   "execution_count": 78,
   "id": "yukZu34-aC3J",
   "metadata": {
    "colab": {
     "base_uri": "https://localhost:8080/"
    },
    "id": "yukZu34-aC3J",
    "outputId": "d3fc9966-bcf7-4eff-8f82-9bf2f653afe6"
   },
   "outputs": [
    {
     "name": "stdout",
     "output_type": "stream",
     "text": [
      "WARNING:tensorflow:Compiled the loaded model, but the compiled metrics have yet to be built. `model.compile_metrics` will be empty until you train or evaluate the model.\n"
     ]
    }
   ],
   "source": [
    "model3.save(\"../models/cnn_rnn_model.h5\")"
   ]
  }
 ],
 "metadata": {
  "accelerator": "GPU",
  "colab": {
   "collapsed_sections": [],
   "name": "ModelTrain.ipynb",
   "provenance": []
  },
  "kernelspec": {
   "display_name": "Python 3",
   "language": "python",
   "name": "python3"
  },
  "language_info": {
   "codemirror_mode": {
    "name": "ipython",
    "version": 3
   },
   "file_extension": ".py",
   "mimetype": "text/x-python",
   "name": "python",
   "nbconvert_exporter": "python",
   "pygments_lexer": "ipython3",
   "version": "3.9.4"
  }
 },
 "nbformat": 4,
 "nbformat_minor": 5
}
