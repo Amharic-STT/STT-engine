{
 "cells": [
  {
   "cell_type": "code",
   "execution_count": 42,
   "id": "c34a6094",
   "metadata": {
    "executionInfo": {
     "elapsed": 2895,
     "status": "ok",
     "timestamp": 1628699389341,
     "user": {
      "displayName": "Daniel Zelalem",
      "photoUrl": "",
      "userId": "17933366000899068375"
     },
     "user_tz": -180
    },
    "id": "c34a6094"
   },
   "outputs": [],
   "source": [
    "import os\n",
    "import sys\n",
    "sys.path.append(os.path.abspath(os.path.join('../scripts')))\n",
    "sys.path.append(os.path.abspath(os.path.join('./scripts')))\n",
    "import pandas as pd\n",
    "import IPython.display as ipd\n",
    "import matplotlib.pyplot as plt\n",
    "import numpy as np\n",
    "from scipy.io import wavfile #for audio processing\n",
    "import os\n",
    "import pickle\n",
    "import pandas as pd\n",
    "from collections import Counter\n",
    "import librosa\n",
    "import tensorflow as tf\n",
    "from tensorflow.keras.models import Model, Sequential\n",
    "from tensorflow.keras.layers import * \n",
    "from tensorflow.keras.callbacks import Callback, ModelCheckpoint\n",
    "from tensorflow.keras.preprocessing.sequence import pad_sequences\n",
    "from tensorflow.keras.optimizers import SGD, Adam, RMSprop\n",
    "from tensorflow.keras import backend as K\n",
    "from jiwer import wer\n",
    "import random\n",
    "\n",
    "\n",
    "import mlflow"
   ]
  },
  {
   "cell_type": "code",
   "execution_count": 80,
   "id": "6d1cf366",
   "metadata": {},
   "outputs": [],
   "source": [
    "import warnings\n",
    "warnings.filterwarnings('ignore')"
   ]
  },
  {
   "cell_type": "code",
   "execution_count": null,
   "id": "14DrOASH1-ag",
   "metadata": {
    "executionInfo": {
     "elapsed": 1707,
     "status": "ok",
     "timestamp": 1628689887618,
     "user": {
      "displayName": "Daniel Zelalem",
      "photoUrl": "",
      "userId": "17933366000899068375"
     },
     "user_tz": -180
    },
    "id": "14DrOASH1-ag"
   },
   "outputs": [],
   "source": [
    "# !ln -s ./drive/MyDrive/SST/data/ ./\n",
    "# !ln -s ./drive/MyDrive/SST/scripts/* ./"
   ]
  },
  {
   "cell_type": "code",
   "execution_count": 3,
   "id": "IQLOtaNr2GSB",
   "metadata": {
    "colab": {
     "base_uri": "https://localhost:8080/"
    },
    "executionInfo": {
     "elapsed": 625,
     "status": "ok",
     "timestamp": 1628689876631,
     "user": {
      "displayName": "Daniel Zelalem",
      "photoUrl": "",
      "userId": "17933366000899068375"
     },
     "user_tz": -180
    },
    "id": "IQLOtaNr2GSB",
    "outputId": "05b3d77e-6ba7-43fc-8256-92e5e2539d74"
   },
   "outputs": [
    {
     "name": "stdout",
     "output_type": "stream",
     "text": [
      "Drive already mounted at /content/drive; to attempt to forcibly remount, call drive.mount(\"/content/drive\", force_remount=True).\n"
     ]
    }
   ],
   "source": [
    "# from google.colab import drive\n",
    "# drive.mount('/content/drive')"
   ]
  },
  {
   "cell_type": "code",
   "execution_count": 32,
   "id": "3f315bab",
   "metadata": {},
   "outputs": [],
   "source": [
    "# !pip3 install jiwer\n"
   ]
  },
  {
   "cell_type": "code",
   "execution_count": 43,
   "id": "acf88600",
   "metadata": {
    "executionInfo": {
     "elapsed": 981,
     "status": "ok",
     "timestamp": 1628699393166,
     "user": {
      "displayName": "Daniel Zelalem",
      "photoUrl": "",
      "userId": "17933366000899068375"
     },
     "user_tz": -180
    },
    "id": "acf88600"
   },
   "outputs": [],
   "source": [
    "import helper\n"
   ]
  },
  {
   "cell_type": "code",
   "execution_count": 60,
   "id": "4f219ca9",
   "metadata": {
    "executionInfo": {
     "elapsed": 4,
     "status": "ok",
     "timestamp": 1628699394673,
     "user": {
      "displayName": "Daniel Zelalem",
      "photoUrl": "",
      "userId": "17933366000899068375"
     },
     "user_tz": -180
    },
    "id": "4f219ca9"
   },
   "outputs": [],
   "source": [
    "from data_generator import DataGenerator\n",
    "from tokenizer import Tokenizer\n",
    "from logspectrorgam import LogMelSpectrogram\n",
    "from ctc_loss import CTC_loss\n",
    "from model2 import simple_rnn_model, CNN_net, BidirectionalRNN2, cnn_rnn_model"
   ]
  },
  {
   "cell_type": "markdown",
   "id": "f80ab45b",
   "metadata": {},
   "source": [
    "### Defining hop_size for our audio features "
   ]
  },
  {
   "cell_type": "markdown",
   "id": "890e33e0",
   "metadata": {},
   "source": [
    "### Init CTC_loss class"
   ]
  },
  {
   "cell_type": "code",
   "execution_count": 46,
   "id": "e464cd2c",
   "metadata": {},
   "outputs": [],
   "source": [
    "frame_step = 256\n",
    "ctc = CTC_loss(frame_step)"
   ]
  },
  {
   "cell_type": "markdown",
   "id": "d77b7745",
   "metadata": {},
   "source": [
    "### Defination of preprocessing model"
   ]
  },
  {
   "cell_type": "markdown",
   "id": "05f2b14a",
   "metadata": {},
   "source": [
    "- This model uses LogMelSpectrogram to generate features of an audio data at run time\n",
    "- We will use this model as a part of our speech to text models to convert audio data to log melspectrogram"
   ]
  },
  {
   "cell_type": "code",
   "execution_count": 47,
   "id": "09c8fa57",
   "metadata": {
    "executionInfo": {
     "elapsed": 623,
     "status": "ok",
     "timestamp": 1628699400742,
     "user": {
      "displayName": "Daniel Zelalem",
      "photoUrl": "",
      "userId": "17933366000899068375"
     },
     "user_tz": -180
    },
    "id": "09c8fa57"
   },
   "outputs": [],
   "source": [
    "def preprocessin_model(sample_rate, fft_size, frame_step, n_mels, mfcc=False):\n",
    "\n",
    "    input_data = Input(name='input', shape=(None,), dtype=\"float32\")\n",
    "    featLayer = LogMelSpectrogram(\n",
    "        fft_size=fft_size,\n",
    "        hop_size=frame_step,\n",
    "        n_mels=n_mels,\n",
    "        \n",
    "        sample_rate=sample_rate,\n",
    "        f_min=0.0,\n",
    "        \n",
    "        f_max=int(sample_rate / 2),\n",
    "    )(input_data)\n",
    "    \n",
    "    x = BatchNormalization(axis=2)(featLayer)\n",
    "    model = Model(inputs=input_data, outputs=x, name=\"preprocessin_model\")\n",
    "\n",
    "    return model"
   ]
  },
  {
   "cell_type": "markdown",
   "id": "6b3b998d",
   "metadata": {},
   "source": [
    "### Model trainer function"
   ]
  },
  {
   "cell_type": "code",
   "execution_count": 48,
   "id": "7abeb89a",
   "metadata": {
    "executionInfo": {
     "elapsed": 542,
     "status": "ok",
     "timestamp": 1628699406370,
     "user": {
      "displayName": "Daniel Zelalem",
      "photoUrl": "",
      "userId": "17933366000899068375"
     },
     "user_tz": -180
    },
    "id": "7abeb89a"
   },
   "outputs": [],
   "source": [
    "def train(model_builder, \n",
    "          data_gen,\n",
    "          batch_size = 32,\n",
    "          epochs=20, \n",
    "          verbose=1,\n",
    "          save_path=\"../models/model.h5\",\n",
    "          optimizer=SGD(learning_rate=0.01, decay=1e-6, momentum=0.9, nesterov=True, clipnorm=5),\n",
    "          ):    \n",
    "              \n",
    "    model = ctc.add_ctc_loss(model_builder)\n",
    "\n",
    "    checkpointer = ModelCheckpoint(filepath=save_path, verbose=0)\n",
    "    model.compile(loss={'ctc': lambda y_true, y_pred: y_pred}, optimizer=optimizer)\n",
    "    print(model.summary())\n",
    "\n",
    "\n",
    "    hist = model.fit_generator(generator=data_gen,\n",
    "                               callbacks=[checkpointer],\n",
    "\n",
    "                               epochs=epochs,\n",
    "                               verbose=verbose, \n",
    "                               use_multiprocessing=False)\n",
    "    return model"
   ]
  },
  {
   "cell_type": "markdown",
   "id": "596a2dcf",
   "metadata": {},
   "source": [
    "### Loading our audio data and translation data from pickle file\n",
    "\n",
    "- audio_obj is a key value pair dict where the key is the file name of the audio and value is the audio data\n",
    "- translation_obj is a key value pair dict where the key is the file name of the audio and value is the transcription \n"
   ]
  },
  {
   "cell_type": "markdown",
   "id": "12493b40",
   "metadata": {},
   "source": [
    "#### The metadata is a pandas dataframe which holds meta data information for each audio"
   ]
  },
  {
   "cell_type": "code",
   "execution_count": 49,
   "id": "3f654a55",
   "metadata": {
    "colab": {
     "base_uri": "https://localhost:8080/"
    },
    "executionInfo": {
     "elapsed": 2912,
     "status": "ok",
     "timestamp": 1628699411261,
     "user": {
      "displayName": "Daniel Zelalem",
      "photoUrl": "",
      "userId": "17933366000899068375"
     },
     "user_tz": -180
    },
    "id": "3f654a55",
    "outputId": "c01d68d8-1b78-41f1-ea6f-6345db44bff8"
   },
   "outputs": [
    {
     "name": "stdout",
     "output_type": "stream",
     "text": [
      "file read as csv\n"
     ]
    }
   ],
   "source": [
    "\n",
    "translation_obj = helper.read_obj(\"../data/translation_dict.pkl\")\n",
    "audio_obj = helper.read_obj(\"../data/audio_dict.pkl\")\n",
    "meta_data = helper.read_csv(\"../data/meta_data.csv\")\n"
   ]
  },
  {
   "cell_type": "markdown",
   "id": "94df7a3f",
   "metadata": {},
   "source": [
    "#### Sorting the audios based on the duration using the metadata"
   ]
  },
  {
   "cell_type": "code",
   "execution_count": 50,
   "id": "xO7gtHd07skA",
   "metadata": {
    "colab": {
     "base_uri": "https://localhost:8080/",
     "height": 504
    },
    "executionInfo": {
     "elapsed": 11,
     "status": "ok",
     "timestamp": 1628699411262,
     "user": {
      "displayName": "Daniel Zelalem",
      "photoUrl": "",
      "userId": "17933366000899068375"
     },
     "user_tz": -180
    },
    "id": "xO7gtHd07skA",
    "outputId": "028c0876-dfa9-45f3-d192-5297099bddf5"
   },
   "outputs": [
    {
     "data": {
      "text/html": [
       "<div>\n",
       "<style scoped>\n",
       "    .dataframe tbody tr th:only-of-type {\n",
       "        vertical-align: middle;\n",
       "    }\n",
       "\n",
       "    .dataframe tbody tr th {\n",
       "        vertical-align: top;\n",
       "    }\n",
       "\n",
       "    .dataframe thead th {\n",
       "        text-align: right;\n",
       "    }\n",
       "</style>\n",
       "<table border=\"1\" class=\"dataframe\">\n",
       "  <thead>\n",
       "    <tr style=\"text-align: right;\">\n",
       "      <th></th>\n",
       "      <th>translation</th>\n",
       "      <th>label</th>\n",
       "      <th>channel</th>\n",
       "      <th>sample_rate</th>\n",
       "      <th>duration</th>\n",
       "    </tr>\n",
       "  </thead>\n",
       "  <tbody>\n",
       "    <tr>\n",
       "      <th>4133</th>\n",
       "      <td>እኛ ም እ ኮ ፉትቦል ን እንወዳ ለ ን</td>\n",
       "      <td>tr_3933_tr40034</td>\n",
       "      <td>1</td>\n",
       "      <td>8000</td>\n",
       "      <td>2.048</td>\n",
       "    </tr>\n",
       "    <tr>\n",
       "      <th>1476</th>\n",
       "      <td>አሸናፊ ፈጣን ተጨዋች ነው</td>\n",
       "      <td>tr_1541_tr16042</td>\n",
       "      <td>1</td>\n",
       "      <td>8000</td>\n",
       "      <td>2.048</td>\n",
       "    </tr>\n",
       "    <tr>\n",
       "      <th>408</th>\n",
       "      <td>እንስራ ው ተ ሸነቆረ</td>\n",
       "      <td>tr_10369_tr100091</td>\n",
       "      <td>1</td>\n",
       "      <td>8000</td>\n",
       "      <td>2.176</td>\n",
       "    </tr>\n",
       "    <tr>\n",
       "      <th>73</th>\n",
       "      <td>ጥያቄ ያችን ጆንያ ሙሉ ነው</td>\n",
       "      <td>tr_10067_tr098029</td>\n",
       "      <td>1</td>\n",
       "      <td>8000</td>\n",
       "      <td>2.176</td>\n",
       "    </tr>\n",
       "    <tr>\n",
       "      <th>3574</th>\n",
       "      <td>ኳስ ጨዋታ ኳስ ነው</td>\n",
       "      <td>tr_342_tr04042</td>\n",
       "      <td>1</td>\n",
       "      <td>8000</td>\n",
       "      <td>2.176</td>\n",
       "    </tr>\n",
       "    <tr>\n",
       "      <th>...</th>\n",
       "      <td>...</td>\n",
       "      <td>...</td>\n",
       "      <td>...</td>\n",
       "      <td>...</td>\n",
       "      <td>...</td>\n",
       "    </tr>\n",
       "    <tr>\n",
       "      <th>2614</th>\n",
       "      <td>በ አውሮፕላኗ ተመትቶ መውደቅ ሳቢያ ዜጐቻቸው ን ላ ጡት የ ብሪታኒያ ና ...</td>\n",
       "      <td>tr_2566_tr26067</td>\n",
       "      <td>1</td>\n",
       "      <td>8000</td>\n",
       "      <td>20.352</td>\n",
       "    </tr>\n",
       "    <tr>\n",
       "      <th>1652</th>\n",
       "      <td>ሁሴን አይዲድ እንደ ገለጹት ኢትዮጵያ ሁኔታዎች ከ ተመቻቹ ላት ሶማሊያ ን...</td>\n",
       "      <td>tr_16_tr01016</td>\n",
       "      <td>1</td>\n",
       "      <td>8000</td>\n",
       "      <td>20.736</td>\n",
       "    </tr>\n",
       "    <tr>\n",
       "      <th>2222</th>\n",
       "      <td>ከ ግዛታቸው ዋ ና ከተማ ጋሪ ስ ሆነው በ ስልክ ሚስተር ሞሪስ ከ ስደተኞ...</td>\n",
       "      <td>tr_2212_tr23013</td>\n",
       "      <td>1</td>\n",
       "      <td>8000</td>\n",
       "      <td>20.992</td>\n",
       "    </tr>\n",
       "    <tr>\n",
       "      <th>2608</th>\n",
       "      <td>የተ ለቀቁት ምርኮኞች በ አካባቢያቸው ሰላማዊ ኑሮ እንዲ ኖሩ የ ትራንስፖ...</td>\n",
       "      <td>tr_2560_tr26061</td>\n",
       "      <td>1</td>\n",
       "      <td>8000</td>\n",
       "      <td>21.120</td>\n",
       "    </tr>\n",
       "    <tr>\n",
       "      <th>2613</th>\n",
       "      <td>የ ትምህርት ደረጃቸው ንና የ አገልግሎት ሁኔታ ቸውን ስን መረምር የሚ ደ...</td>\n",
       "      <td>tr_2565_tr26066</td>\n",
       "      <td>1</td>\n",
       "      <td>8000</td>\n",
       "      <td>22.784</td>\n",
       "    </tr>\n",
       "  </tbody>\n",
       "</table>\n",
       "<p>5000 rows × 5 columns</p>\n",
       "</div>"
      ],
      "text/plain": [
       "                                            translation              label  \\\n",
       "4133                           እኛ ም እ ኮ ፉትቦል ን እንወዳ ለ ን    tr_3933_tr40034   \n",
       "1476                                   አሸናፊ ፈጣን ተጨዋች ነው    tr_1541_tr16042   \n",
       "408                                       እንስራ ው ተ ሸነቆረ  tr_10369_tr100091   \n",
       "73                                    ጥያቄ ያችን ጆንያ ሙሉ ነው  tr_10067_tr098029   \n",
       "3574                                       ኳስ ጨዋታ ኳስ ነው     tr_342_tr04042   \n",
       "...                                                 ...                ...   \n",
       "2614  በ አውሮፕላኗ ተመትቶ መውደቅ ሳቢያ ዜጐቻቸው ን ላ ጡት የ ብሪታኒያ ና ...    tr_2566_tr26067   \n",
       "1652  ሁሴን አይዲድ እንደ ገለጹት ኢትዮጵያ ሁኔታዎች ከ ተመቻቹ ላት ሶማሊያ ን...      tr_16_tr01016   \n",
       "2222  ከ ግዛታቸው ዋ ና ከተማ ጋሪ ስ ሆነው በ ስልክ ሚስተር ሞሪስ ከ ስደተኞ...    tr_2212_tr23013   \n",
       "2608  የተ ለቀቁት ምርኮኞች በ አካባቢያቸው ሰላማዊ ኑሮ እንዲ ኖሩ የ ትራንስፖ...    tr_2560_tr26061   \n",
       "2613  የ ትምህርት ደረጃቸው ንና የ አገልግሎት ሁኔታ ቸውን ስን መረምር የሚ ደ...    tr_2565_tr26066   \n",
       "\n",
       "      channel  sample_rate  duration  \n",
       "4133        1         8000     2.048  \n",
       "1476        1         8000     2.048  \n",
       "408         1         8000     2.176  \n",
       "73          1         8000     2.176  \n",
       "3574        1         8000     2.176  \n",
       "...       ...          ...       ...  \n",
       "2614        1         8000    20.352  \n",
       "1652        1         8000    20.736  \n",
       "2222        1         8000    20.992  \n",
       "2608        1         8000    21.120  \n",
       "2613        1         8000    22.784  \n",
       "\n",
       "[5000 rows x 5 columns]"
      ]
     },
     "execution_count": 50,
     "metadata": {},
     "output_type": "execute_result"
    }
   ],
   "source": [
    "sorted_metadata = meta_data.sort_values(by=\"duration\")\n",
    "labels = sorted_metadata['label'].to_list()\n",
    "sorted_metadata"
   ]
  },
  {
   "cell_type": "markdown",
   "id": "5cf1a5dc",
   "metadata": {},
   "source": [
    "#### extracting audios and translations in lists"
   ]
  },
  {
   "cell_type": "code",
   "execution_count": 51,
   "id": "ef6a4e11",
   "metadata": {
    "executionInfo": {
     "elapsed": 553,
     "status": "ok",
     "timestamp": 1628699415091,
     "user": {
      "displayName": "Daniel Zelalem",
      "photoUrl": "",
      "userId": "17933366000899068375"
     },
     "user_tz": -180
    },
    "id": "ef6a4e11"
   },
   "outputs": [],
   "source": [
    "audios = []\n",
    "for label in labels:\n",
    "    audios.append(audio_obj[label][0])\n",
    "    \n",
    "translations = []\n",
    "for label in labels:\n",
    "    translations.append(translation_obj[label])"
   ]
  },
  {
   "cell_type": "markdown",
   "id": "a11460e9",
   "metadata": {},
   "source": [
    "### Build function"
   ]
  },
  {
   "cell_type": "markdown",
   "id": "f7842c5d",
   "metadata": {},
   "source": [
    "- Build function takes a speech model and a preprocessing model (a model that gives melespectrogram features) and build them into a single speech model"
   ]
  },
  {
   "cell_type": "code",
   "execution_count": 52,
   "id": "3675d659",
   "metadata": {
    "executionInfo": {
     "elapsed": 4,
     "status": "ok",
     "timestamp": 1628699416838,
     "user": {
      "displayName": "Daniel Zelalem",
      "photoUrl": "",
      "userId": "17933366000899068375"
     },
     "user_tz": -180
    },
    "id": "3675d659"
   },
   "outputs": [],
   "source": [
    "def build_model(output_dim, custom_model, preprocess_model, mfcc=False, calc=None):\n",
    "\n",
    "    input_audios = Input(name='the_input', shape=(None,))\n",
    "    pre = preprocess_model(input_audios)\n",
    "    pre = tf.squeeze(pre, [3])\n",
    "\n",
    "    y_pred = custom_model(pre)\n",
    "    model = Model(inputs=input_audios, outputs=y_pred, name=\"model_builder\")\n",
    "    model.output_length = calc\n",
    "\n",
    "    return model"
   ]
  },
  {
   "cell_type": "markdown",
   "id": "7358e4ae",
   "metadata": {},
   "source": [
    "### Predict function"
   ]
  },
  {
   "cell_type": "code",
   "execution_count": 53,
   "id": "CKKxhFiFozcF",
   "metadata": {
    "executionInfo": {
     "elapsed": 3,
     "status": "ok",
     "timestamp": 1628699418994,
     "user": {
      "displayName": "Daniel Zelalem",
      "photoUrl": "",
      "userId": "17933366000899068375"
     },
     "user_tz": -180
    },
    "id": "CKKxhFiFozcF"
   },
   "outputs": [],
   "source": [
    "def predict(model, audio, tokenizer, int_to_char, actual=None):\n",
    "    \n",
    "    pred_audios = tf.convert_to_tensor([audio])\n",
    "    \n",
    "    y_pred = model.predict(pred_audios)\n",
    "\n",
    "    input_shape = tf.keras.backend.shape(y_pred)\n",
    "    input_length = tf.ones(shape=input_shape[0]) * tf.keras.backend.cast(input_shape[1], 'float32')\n",
    "    prediction = tf.keras.backend.ctc_decode(y_pred, input_length, greedy=False)[0][0]\n",
    "        \n",
    "    pred = K.eval(prediction).flatten().tolist()\n",
    "    pred = [i for i in pred if i != -1]\n",
    "    \n",
    "    predicted_text = tokenizer.decode_text(pred, int_to_char)\n",
    "    \n",
    "    error = None\n",
    "    if actual != None:\n",
    "        error = wer(actual, predicted_text)\n",
    "   \n",
    "    return predicted_text, error"
   ]
  },
  {
   "cell_type": "markdown",
   "id": "73164049",
   "metadata": {},
   "source": [
    "### Init our translation tokenizer and build a charchter mapping dict"
   ]
  },
  {
   "cell_type": "code",
   "execution_count": 54,
   "id": "107cd033",
   "metadata": {
    "colab": {
     "base_uri": "https://localhost:8080/"
    },
    "executionInfo": {
     "elapsed": 725,
     "status": "ok",
     "timestamp": 1628699421859,
     "user": {
      "displayName": "Daniel Zelalem",
      "photoUrl": "",
      "userId": "17933366000899068375"
     },
     "user_tz": -180
    },
    "id": "107cd033",
    "outputId": "2803c0e0-8fa0-4a94-948a-caa10db28729"
   },
   "outputs": [
    {
     "name": "stdout",
     "output_type": "stream",
     "text": [
      "sample snt: እኛ ም እ ኮ ፉትቦል ን እንወዳ ለ ን\n",
      "encoded snt: [13, 74, 1, 16, 1, 13, 1, 67, 1, 142, 3, 122, 12, 1, 2, 1, 13, 2, 37, 39, 1, 11, 1, 2]\n",
      "decoed snt: እኛ ም እ ኮ ፉትቦል ን እንወዳ ለ ን\n"
     ]
    }
   ],
   "source": [
    "tokenizer = Tokenizer(translations)\n",
    "int_to_char, char_to_int = tokenizer.build_dict()\n",
    "sample = translations[0]\n",
    "encoded = tokenizer.encode(sample, char_to_int)\n",
    "decoded = tokenizer.decode_text(encoded, int_to_char)\n",
    "\n",
    "print(f\"sample snt: {sample}\")\n",
    "print(f\"encoded snt: {encoded}\")\n",
    "print(f\"decoed snt: {decoded}\")"
   ]
  },
  {
   "cell_type": "markdown",
   "id": "f7a1d899",
   "metadata": {},
   "source": [
    "### init our variables"
   ]
  },
  {
   "cell_type": "code",
   "execution_count": 55,
   "id": "bdea9379",
   "metadata": {
    "executionInfo": {
     "elapsed": 3,
     "status": "ok",
     "timestamp": 1628699424858,
     "user": {
      "displayName": "Daniel Zelalem",
      "photoUrl": "",
      "userId": "17933366000899068375"
     },
     "user_tz": -180
    },
    "id": "bdea9379"
   },
   "outputs": [],
   "source": [
    "\n",
    "sample_rate = 8000\n",
    "fft_size = 512\n",
    "frame_step = 256\n",
    "n_mels = 128\n",
    "\n",
    "batch_size = 100\n",
    "epochs = 20\n",
    "data_len = len(translations)\n",
    "output_dim = len(char_to_int) + 2\n"
   ]
  },
  {
   "cell_type": "markdown",
   "id": "1c3f529d",
   "metadata": {},
   "source": [
    "### Init our DataGenerator and build our preprocessing model"
   ]
  },
  {
   "cell_type": "code",
   "execution_count": 57,
   "id": "cb25dda1",
   "metadata": {
    "colab": {
     "base_uri": "https://localhost:8080/"
    },
    "executionInfo": {
     "elapsed": 1693,
     "status": "ok",
     "timestamp": 1628699431823,
     "user": {
      "displayName": "Daniel Zelalem",
      "photoUrl": "",
      "userId": "17933366000899068375"
     },
     "user_tz": -180
    },
    "id": "cb25dda1",
    "outputId": "10156bd8-68dd-4ae4-fda4-c8ef21311ec1"
   },
   "outputs": [
    {
     "name": "stdout",
     "output_type": "stream",
     "text": [
      "Model: \"preprocessin_model\"\n",
      "_________________________________________________________________\n",
      "Layer (type)                 Output Shape              Param #   \n",
      "=================================================================\n",
      "input (InputLayer)           [(None, None)]            0         \n",
      "_________________________________________________________________\n",
      "log_mel_spectrogram_1 (LogMe (None, None, 128, 1)      0         \n",
      "_________________________________________________________________\n",
      "batch_normalization_1 (Batch (None, None, 128, 1)      512       \n",
      "=================================================================\n",
      "Total params: 512\n",
      "Trainable params: 256\n",
      "Non-trainable params: 256\n",
      "_________________________________________________________________\n"
     ]
    }
   ],
   "source": [
    "dg = DataGenerator(translations, audios, batch_size, shuffle=True)\n",
    "preprocess_model = preprocessin_model(sample_rate, fft_size, frame_step, n_mels)\n",
    "preprocess_model.summary()"
   ]
  },
  {
   "cell_type": "markdown",
   "id": "5cb991e5",
   "metadata": {},
   "source": [
    "### checking log melespectorgram of sample audio data using our preprocessing model"
   ]
  },
  {
   "cell_type": "code",
   "execution_count": 22,
   "id": "ZdGw4xLn2L34",
   "metadata": {
    "colab": {
     "base_uri": "https://localhost:8080/",
     "height": 289
    },
    "executionInfo": {
     "elapsed": 3181,
     "status": "ok",
     "timestamp": 1628699180083,
     "user": {
      "displayName": "Daniel Zelalem",
      "photoUrl": "",
      "userId": "17933366000899068375"
     },
     "user_tz": -180
    },
    "id": "ZdGw4xLn2L34",
    "outputId": "c52302db-2df7-4ed7-ba14-351efc8ae59f"
   },
   "outputs": [
    {
     "name": "stdout",
     "output_type": "stream",
     "text": [
      "(1, 65536)\n"
     ]
    },
    {
     "data": {
      "text/plain": [
       "(1, 255, 128, 1)"
      ]
     },
     "metadata": {
      "tags": []
     },
     "output_type": "display_data"
    },
    {
     "name": "stdout",
     "output_type": "stream",
     "text": [
      "char_len 96\n"
     ]
    },
    {
     "data": {
      "image/png": "[encoded data removed]",
      "text/plain": [
       "<Figure size 1152x288 with 1 Axes>"
      ]
     },
     "metadata": {
      "tags": []
     },
     "output_type": "display_data"
    }
   ],
   "source": [
    "\n",
    "\n",
    "sample_audio = dg[0][0]['the_input'][0].numpy()\n",
    "sample_lbl = dg[0][0]['the_labels'][0].numpy()\n",
    "\n",
    "a = np.zeros((1, len(sample_audio)))\n",
    "a[0, ] = sample_audio\n",
    "print(a.shape)\n",
    "pred = preprocess_model.predict(a)\n",
    "fig, ax = plt.subplots(figsize=(16, 4))\n",
    "display(pred.shape)\n",
    "pred = pred[0, :, :, 0]\n",
    "librosa.display.specshow(pred.T, sr=8000, hop_length=128, cmap=\"jet\")\n",
    "print(\"char_len\", len(sample_lbl))"
   ]
  },
  {
   "cell_type": "code",
   "execution_count": 27,
   "id": "XeV4Uu6eCxRr",
   "metadata": {
    "colab": {
     "base_uri": "https://localhost:8080/",
     "height": 289
    },
    "executionInfo": {
     "elapsed": 778,
     "status": "ok",
     "timestamp": 1628679511029,
     "user": {
      "displayName": "Daniel Zelalem",
      "photoUrl": "",
      "userId": "17933366000899068375"
     },
     "user_tz": -180
    },
    "id": "XeV4Uu6eCxRr",
    "outputId": "5f1be4d3-0be4-46fb-a9f5-7fde8586829a"
   },
   "outputs": [
    {
     "name": "stdout",
     "output_type": "stream",
     "text": [
      "(1, 34816)\n"
     ]
    },
    {
     "data": {
      "text/plain": [
       "(1, 135, 128, 1)"
      ]
     },
     "metadata": {
      "tags": []
     },
     "output_type": "display_data"
    },
    {
     "name": "stdout",
     "output_type": "stream",
     "text": [
      "char_len 44\n"
     ]
    },
    {
     "data": {
      "image/png": "[encoded data removed]",
      "text/plain": [
       "<Figure size 1152x288 with 1 Axes>"
      ]
     },
     "metadata": {
      "tags": []
     },
     "output_type": "display_data"
    }
   ],
   "source": [
    "\n",
    "sample_audio = dg[49][0]['the_input'][-1].numpy()\n",
    "sample_lbl = dg[49][0]['the_labels'][-1].numpy()\n",
    "\n",
    "a = np.zeros((1, len(sample_audio)))\n",
    "a[0, ] = sample_audio\n",
    "print(a.shape)\n",
    "pred = preprocess_model.predict(a)\n",
    "fig, ax = plt.subplots(figsize=(16, 4))\n",
    "display(pred.shape)\n",
    "pred = pred[0, :, :, 0]\n",
    "librosa.display.specshow(pred.T, sr=8000, hop_length=128, cmap=\"jet\")\n",
    "print(\"char_len\", len(sample_lbl))"
   ]
  },
  {
   "cell_type": "markdown",
   "id": "5b51dccc",
   "metadata": {
    "id": "myDkV2oA2YY5"
   },
   "source": [
    "### 1. Simple RNN model for speech to text"
   ]
  },
  {
   "cell_type": "markdown",
   "id": "ddb0e4cd",
   "metadata": {},
   "source": [
    "#### creating a simple rnn model"
   ]
  },
  {
   "cell_type": "code",
   "execution_count": 62,
   "id": "e43ae703",
   "metadata": {
    "colab": {
     "base_uri": "https://localhost:8080/"
    },
    "executionInfo": {
     "elapsed": 610,
     "status": "ok",
     "timestamp": 1628679533946,
     "user": {
      "displayName": "Daniel Zelalem",
      "photoUrl": "",
      "userId": "17933366000899068375"
     },
     "user_tz": -180
    },
    "id": "e43ae703",
    "outputId": "7785164e-5e79-4509-f847-fa4735f8ad84"
   },
   "outputs": [
    {
     "name": "stdout",
     "output_type": "stream",
     "text": [
      "Model: \"simple_rnn_model\"\n",
      "_________________________________________________________________\n",
      "Layer (type)                 Output Shape              Param #   \n",
      "=================================================================\n",
      "the_input (InputLayer)       [(None, None, 128)]       0         \n",
      "_________________________________________________________________\n",
      "rnn (GRU)                    (None, None, 223)         236157    \n",
      "_________________________________________________________________\n",
      "softmax (Activation)         (None, None, 223)         0         \n",
      "=================================================================\n",
      "Total params: 236,157\n",
      "Trainable params: 236,157\n",
      "Non-trainable params: 0\n",
      "_________________________________________________________________\n"
     ]
    }
   ],
   "source": [
    "speech_simple_rnn = simple_rnn_model(n_mels, output_dim)\n",
    "speech_simple_rnn.summary()"
   ]
  },
  {
   "cell_type": "markdown",
   "id": "dfac123c",
   "metadata": {},
   "source": [
    "#### Building a simple rnn moel by stacking preprocessin_model and speech_simple_rnn"
   ]
  },
  {
   "cell_type": "code",
   "execution_count": 65,
   "id": "b8e25a3f",
   "metadata": {
    "colab": {
     "base_uri": "https://localhost:8080/"
    },
    "executionInfo": {
     "elapsed": 412,
     "status": "ok",
     "timestamp": 1628679536551,
     "user": {
      "displayName": "Daniel Zelalem",
      "photoUrl": "",
      "userId": "17933366000899068375"
     },
     "user_tz": -180
    },
    "id": "b8e25a3f",
    "outputId": "ef5342d7-b372-4a01-aa3b-b7125ba742e0"
   },
   "outputs": [
    {
     "name": "stdout",
     "output_type": "stream",
     "text": [
      "Model: \"model_builder\"\n",
      "_________________________________________________________________\n",
      "Layer (type)                 Output Shape              Param #   \n",
      "=================================================================\n",
      "the_input (InputLayer)       [(None, None)]            0         \n",
      "_________________________________________________________________\n",
      "preprocessin_model (Function (None, None, 128, 1)      512       \n",
      "_________________________________________________________________\n",
      "tf.compat.v1.squeeze_3 (TFOp (None, None, 128)         0         \n",
      "_________________________________________________________________\n",
      "simple_rnn_model (Functional (None, None, 223)         236157    \n",
      "=================================================================\n",
      "Total params: 236,669\n",
      "Trainable params: 236,413\n",
      "Non-trainable params: 256\n",
      "_________________________________________________________________\n"
     ]
    }
   ],
   "source": [
    "simple_rnn_speech_model = build_model(output_dim, speech_simple_rnn, preprocess_model)\n",
    "simple_rnn_speech_model.summary()"
   ]
  },
  {
   "cell_type": "markdown",
   "id": "5ebd5074",
   "metadata": {},
   "source": [
    "#### Training"
   ]
  },
  {
   "cell_type": "code",
   "execution_count": 29,
   "id": "01feee42",
   "metadata": {
    "colab": {
     "base_uri": "https://localhost:8080/"
    },
    "executionInfo": {
     "elapsed": 246858,
     "status": "ok",
     "timestamp": 1628679787023,
     "user": {
      "displayName": "Daniel Zelalem",
      "photoUrl": "",
      "userId": "17933366000899068375"
     },
     "user_tz": -180
    },
    "id": "01feee42",
    "outputId": "41153299-6698-4e00-a9fe-218f47b93b90"
   },
   "outputs": [
    {
     "name": "stdout",
     "output_type": "stream",
     "text": [
      "Model: \"model\"\n",
      "__________________________________________________________________________________________________\n",
      "Layer (type)                    Output Shape         Param #     Connected to                     \n",
      "==================================================================================================\n",
      "the_input (InputLayer)          [(None, None)]       0                                            \n",
      "__________________________________________________________________________________________________\n",
      "preprocessin_model (Functional) (None, None, 128, 1) 512         the_input[0][0]                  \n",
      "__________________________________________________________________________________________________\n",
      "tf.compat.v1.squeeze (TFOpLambd (None, None, 128)    0           preprocessin_model[0][0]         \n",
      "__________________________________________________________________________________________________\n",
      "input_length (InputLayer)       [(None, 1)]          0                                            \n",
      "__________________________________________________________________________________________________\n",
      "simple_rnn_model (Functional)   (None, None, 223)    236157      tf.compat.v1.squeeze[0][0]       \n",
      "__________________________________________________________________________________________________\n",
      "the_labels (InputLayer)         [(None, None)]       0                                            \n",
      "__________________________________________________________________________________________________\n",
      "lambda (Lambda)                 (None, 1)            0           input_length[0][0]               \n",
      "__________________________________________________________________________________________________\n",
      "label_length (InputLayer)       [(None, 1)]          0                                            \n",
      "__________________________________________________________________________________________________\n",
      "ctc (Lambda)                    (None, 1)            0           simple_rnn_model[0][0]           \n",
      "                                                                 the_labels[0][0]                 \n",
      "                                                                 lambda[0][0]                     \n",
      "                                                                 label_length[0][0]               \n",
      "==================================================================================================\n",
      "Total params: 236,669\n",
      "Trainable params: 236,413\n",
      "Non-trainable params: 256\n",
      "__________________________________________________________________________________________________\n",
      "None\n"
     ]
    },
    {
     "name": "stderr",
     "output_type": "stream",
     "text": [
      "/Library/Frameworks/Python.framework/Versions/3.9/lib/python3.9/site-packages/tensorflow/python/keras/engine/training.py:1940: UserWarning: `Model.fit_generator` is deprecated and will be removed in a future version. Please use `Model.fit`, which supports generators.\n",
      "  warnings.warn('`Model.fit_generator` is deprecated and '\n"
     ]
    },
    {
     "name": "stdout",
     "output_type": "stream",
     "text": [
      "Epoch 1/20\n",
      "50/50 [==============================] - 74s 1s/step - loss: 741.7604\n",
      "Epoch 2/20\n",
      "50/50 [==============================] - 71s 1s/step - loss: 682.7922\n",
      "Epoch 3/20\n",
      "50/50 [==============================] - 78s 2s/step - loss: 682.0422\n",
      "Epoch 4/20\n",
      "50/50 [==============================] - 85s 2s/step - loss: 681.6732\n",
      "Epoch 5/20\n",
      "50/50 [==============================] - 85s 2s/step - loss: 681.3718\n",
      "Epoch 6/20\n",
      "50/50 [==============================] - 77s 2s/step - loss: 681.1526\n",
      "Epoch 7/20\n",
      "50/50 [==============================] - 73s 1s/step - loss: 680.9636\n",
      "Epoch 8/20\n",
      "50/50 [==============================] - 75s 2s/step - loss: 680.7802\n",
      "Epoch 9/20\n",
      "50/50 [==============================] - 68s 1s/step - loss: 680.6910\n",
      "Epoch 10/20\n",
      "50/50 [==============================] - 69s 1s/step - loss: 680.3199\n",
      "Epoch 11/20\n",
      "50/50 [==============================] - 87s 2s/step - loss: 680.0570\n",
      "Epoch 12/20\n",
      "50/50 [==============================] - 74s 1s/step - loss: 679.8464\n",
      "Epoch 13/20\n",
      "50/50 [==============================] - 92s 2s/step - loss: 679.8269\n",
      "Epoch 14/20\n",
      "50/50 [==============================] - 77s 2s/step - loss: 679.6784\n",
      "Epoch 15/20\n",
      "50/50 [==============================] - 71s 1s/step - loss: 679.6099\n",
      "Epoch 16/20\n",
      "50/50 [==============================] - 70s 1s/step - loss: 679.4676\n",
      "Epoch 17/20\n",
      "50/50 [==============================] - 69s 1s/step - loss: 679.3322\n",
      "Epoch 18/20\n",
      "50/50 [==============================] - 69s 1s/step - loss: 679.2448\n",
      "Epoch 19/20\n",
      "50/50 [==============================] - 76s 2s/step - loss: 679.2038\n",
      "Epoch 20/20\n",
      "50/50 [==============================] - 72s 1s/step - loss: 679.1887\n"
     ]
    },
    {
     "data": {
      "text/plain": [
       "<tensorflow.python.keras.engine.functional.Functional at 0x1905dfe20>"
      ]
     },
     "execution_count": 29,
     "metadata": {},
     "output_type": "execute_result"
    }
   ],
   "source": [
    "# mlflow.set_experiment('Speech Model-RNN-baseline')\n",
    "# mlflow.tensorflow.autolog()\n",
    "train(simple_rnn_speech_model, dg, epochs=20, save_path=\"../models/simple_rnn_model.h5\",  batch_size=batch_size)"
   ]
  },
  {
   "cell_type": "markdown",
   "id": "603fdd9d",
   "metadata": {},
   "source": [
    "#### Predicting using simple rnn model"
   ]
  },
  {
   "cell_type": "code",
   "execution_count": 69,
   "id": "5qmBzRhlmmgh",
   "metadata": {
    "colab": {
     "base_uri": "https://localhost:8080/"
    },
    "executionInfo": {
     "elapsed": 1256,
     "status": "ok",
     "timestamp": 1628679833252,
     "user": {
      "displayName": "Daniel Zelalem",
      "photoUrl": "",
      "userId": "17933366000899068375"
     },
     "user_tz": -180
    },
    "id": "5qmBzRhlmmgh",
    "outputId": "9ae51d9d-88f5-41c3-c645-22e1abbccc0b"
   },
   "outputs": [
    {
     "name": "stdout",
     "output_type": "stream",
     "text": [
      "actual በ ባህል በ ቋንቋ አንድ ናቸው\n",
      "predicted ተ ተ ን ያ ያ አ አ አ ን ንር ን አ አ አ ን \n",
      "WER:  2.5\n"
     ]
    }
   ],
   "source": [
    "\n",
    "simple_rnn_speech_model.load_weights(\"../models/simple_rnn_model.h5\")\n",
    "\n",
    "\n",
    "actual_translation = translations[10]\n",
    "sample_test_audio = audios[0]\n",
    "predicted, error = predict(simple_rnn_speech_model, sample_test_audio , tokenizer, int_to_char, actual=actual_translation)\n",
    "\n",
    "print(\"actual\", actual_translation)\n",
    "print(\"predicted\", predicted)\n",
    "print(\"WER: \", error)\n"
   ]
  },
  {
   "cell_type": "code",
   "execution_count": 19,
   "id": "X1fMYpsW-3M6",
   "metadata": {
    "executionInfo": {
     "elapsed": 779,
     "status": "ok",
     "timestamp": 1628699442061,
     "user": {
      "displayName": "Daniel Zelalem",
      "photoUrl": "",
      "userId": "17933366000899068375"
     },
     "user_tz": -180
    },
    "id": "X1fMYpsW-3M6"
   },
   "outputs": [],
   "source": [
    "# def ctc_lambda_func(args):\n",
    "#     y_pred, labels, input_length, label_length = args\n",
    "#     return K.ctc_batch_cost(labels, y_pred, input_length, label_length)\n",
    "\n",
    "\n",
    "# def input_lengths_lambda_func(args):\n",
    "#     hop_size = frame_step\n",
    "#     input_length = args\n",
    "#     return tf.cast(tf.math.ceil(input_length/hop_size)-1, dtype=\"float32\")\n",
    "\n",
    "\n",
    "# def add_ctc_loss(model_builder):\n",
    "#     the_labels = Input(name='the_labels',      shape=(None,), dtype='float32')\n",
    "#     input_lengths = Input(name='input_length',    shape=(1,), dtype='float32')\n",
    "#     label_lengths = Input(name='label_length',    shape=(1,), dtype='float32')\n",
    "\n",
    "#     input_lengths2 = Lambda(input_lengths_lambda_func)(input_lengths)\n",
    "#     if model_builder.output_length:\n",
    "#         output_lengths = Lambda(\n",
    "#             model_builder.output_length)(input_lengths2)\n",
    "#     else:\n",
    "#         output_lengths = input_lengths2\n",
    "\n",
    "#     loss_out = Lambda(ctc_lambda_func, output_shape=(1,), name='ctc')(\n",
    "#         [model_builder.output, the_labels, output_lengths, label_lengths])\n",
    "#     model = Model(inputs=[model_builder.input, the_labels,\n",
    "#                   input_lengths, label_lengths],  outputs=loss_out)\n",
    "#     return model"
   ]
  },
  {
   "cell_type": "markdown",
   "id": "9931b2e7",
   "metadata": {},
   "source": [
    "### 2. Using CNN + simple rnn"
   ]
  },
  {
   "cell_type": "markdown",
   "id": "39b83bab",
   "metadata": {},
   "source": [
    "#### Creating cnn_rnn model"
   ]
  },
  {
   "cell_type": "code",
   "execution_count": 84,
   "id": "w6LXjBNVyq_f",
   "metadata": {
    "colab": {
     "base_uri": "https://localhost:8080/"
    },
    "executionInfo": {
     "elapsed": 387,
     "status": "ok",
     "timestamp": 1628682451974,
     "user": {
      "displayName": "Daniel Zelalem",
      "photoUrl": "",
      "userId": "17933366000899068375"
     },
     "user_tz": -180
    },
    "id": "w6LXjBNVyq_f",
    "outputId": "f3e38510-ea5e-4a5f-c69e-7b50a9cb8422"
   },
   "outputs": [
    {
     "name": "stdout",
     "output_type": "stream",
     "text": [
      "Model: \"model_2\"\n",
      "_________________________________________________________________\n",
      "Layer (type)                 Output Shape              Param #   \n",
      "=================================================================\n",
      "the_input (InputLayer)       [(None, None, 128)]       0         \n",
      "_________________________________________________________________\n",
      "conv1d (Conv1D)              (None, None, 250)         128250    \n",
      "_________________________________________________________________\n",
      "bn_conv_1d (BatchNormalizati (None, None, 250)         1000      \n",
      "_________________________________________________________________\n",
      "rnn (SimpleRNN)              (None, None, 400)         260400    \n",
      "_________________________________________________________________\n",
      "batch_normalization_17 (Batc (None, None, 400)         1600      \n",
      "_________________________________________________________________\n",
      "time_distributed_3 (TimeDist (None, None, 223)         89423     \n",
      "_________________________________________________________________\n",
      "softmax (Activation)         (None, None, 223)         0         \n",
      "=================================================================\n",
      "Total params: 480,673\n",
      "Trainable params: 479,373\n",
      "Non-trainable params: 1,300\n",
      "_________________________________________________________________\n"
     ]
    }
   ],
   "source": [
    "speech_cnn_rnn = cnn_rnn_model(n_mels, 250, 4, 1, 'same', 400, output_dim)\n",
    "speech_cnn_rnn.summary()"
   ]
  },
  {
   "cell_type": "markdown",
   "id": "2998545e",
   "metadata": {},
   "source": [
    "#### Building a cnn_rnn speech model by stacking speech_cnn_rnn and preprocess_model"
   ]
  },
  {
   "cell_type": "code",
   "execution_count": 86,
   "id": "s56xi_OY1JRz",
   "metadata": {
    "colab": {
     "base_uri": "https://localhost:8080/"
    },
    "executionInfo": {
     "elapsed": 427,
     "status": "ok",
     "timestamp": 1628682459201,
     "user": {
      "displayName": "Daniel Zelalem",
      "photoUrl": "",
      "userId": "17933366000899068375"
     },
     "user_tz": -180
    },
    "id": "s56xi_OY1JRz",
    "outputId": "59e78795-252b-4c6e-d271-6a2cff16dd89"
   },
   "outputs": [
    {
     "name": "stdout",
     "output_type": "stream",
     "text": [
      "Model: \"model_builder\"\n",
      "_________________________________________________________________\n",
      "Layer (type)                 Output Shape              Param #   \n",
      "=================================================================\n",
      "the_input (InputLayer)       [(None, None)]            0         \n",
      "_________________________________________________________________\n",
      "preprocessin_model (Function (None, None, 128, 1)      512       \n",
      "_________________________________________________________________\n",
      "tf.compat.v1.squeeze_6 (TFOp (None, None, 128)         0         \n",
      "_________________________________________________________________\n",
      "model_2 (Functional)         (None, None, 223)         480673    \n",
      "=================================================================\n",
      "Total params: 481,185\n",
      "Trainable params: 479,629\n",
      "Non-trainable params: 1,556\n",
      "_________________________________________________________________\n"
     ]
    }
   ],
   "source": [
    "speech_cnn_rnn_model = build_model(output_dim, speech_cnn_rnn, preprocess_model)\n",
    "speech_cnn_rnn_model.summary()"
   ]
  },
  {
   "cell_type": "markdown",
   "id": "2f7e0d00",
   "metadata": {},
   "source": [
    "#### Training"
   ]
  },
  {
   "cell_type": "code",
   "execution_count": 46,
   "id": "M2bfG1CcFMYk",
   "metadata": {
    "colab": {
     "base_uri": "https://localhost:8080/"
    },
    "executionInfo": {
     "elapsed": 554119,
     "status": "ok",
     "timestamp": 1628683716655,
     "user": {
      "displayName": "Daniel Zelalem",
      "photoUrl": "",
      "userId": "17933366000899068375"
     },
     "user_tz": -180
    },
    "id": "M2bfG1CcFMYk",
    "outputId": "52e665ac-db82-488d-f0d7-a3d66921d1f2"
   },
   "outputs": [
    {
     "name": "stdout",
     "output_type": "stream",
     "text": [
      "Model: \"model_6\"\n",
      "__________________________________________________________________________________________________\n",
      "Layer (type)                    Output Shape         Param #     Connected to                     \n",
      "==================================================================================================\n",
      "the_input (InputLayer)          [(None, None)]       0                                            \n",
      "__________________________________________________________________________________________________\n",
      "preprocessin_model (Functional) (None, None, 128, 1) 512         the_input[0][0]                  \n",
      "__________________________________________________________________________________________________\n",
      "tf.compat.v1.squeeze_3 (TFOpLam (None, None, 128)    0           preprocessin_model[3][0]         \n",
      "__________________________________________________________________________________________________\n",
      "input_length (InputLayer)       [(None, 1)]          0                                            \n",
      "__________________________________________________________________________________________________\n",
      "model_4 (Functional)            (None, None, 223)    480673      tf.compat.v1.squeeze_3[0][0]     \n",
      "__________________________________________________________________________________________________\n",
      "the_labels (InputLayer)         [(None, None)]       0                                            \n",
      "__________________________________________________________________________________________________\n",
      "lambda_4 (Lambda)               (None, 1)            0           input_length[0][0]               \n",
      "__________________________________________________________________________________________________\n",
      "label_length (InputLayer)       [(None, 1)]          0                                            \n",
      "__________________________________________________________________________________________________\n",
      "ctc (Lambda)                    (None, 1)            0           model_4[0][0]                    \n",
      "                                                                 the_labels[0][0]                 \n",
      "                                                                 lambda_4[0][0]                   \n",
      "                                                                 label_length[0][0]               \n",
      "==================================================================================================\n",
      "Total params: 481,185\n",
      "Trainable params: 479,629\n",
      "Non-trainable params: 1,556\n",
      "__________________________________________________________________________________________________\n",
      "None\n",
      "Epoch 1/20\n"
     ]
    },
    {
     "name": "stderr",
     "output_type": "stream",
     "text": [
      "/usr/local/lib/python3.7/dist-packages/tensorflow/python/keras/engine/training.py:1940: UserWarning: `Model.fit_generator` is deprecated and will be removed in a future version. Please use `Model.fit`, which supports generators.\n",
      "  warnings.warn('`Model.fit_generator` is deprecated and '\n"
     ]
    },
    {
     "name": "stdout",
     "output_type": "stream",
     "text": [
      "50/50 [==============================] - 29s 549ms/step - loss: 63.8157\n",
      "Epoch 2/20\n",
      "50/50 [==============================] - 27s 539ms/step - loss: 62.2648\n",
      "Epoch 3/20\n",
      "50/50 [==============================] - 29s 582ms/step - loss: 60.5698\n",
      "Epoch 4/20\n",
      "50/50 [==============================] - 29s 564ms/step - loss: 59.1693\n",
      "Epoch 5/20\n",
      "50/50 [==============================] - 27s 538ms/step - loss: 57.8804\n",
      "Epoch 6/20\n",
      "50/50 [==============================] - 28s 562ms/step - loss: 56.3250\n",
      "Epoch 7/20\n",
      "50/50 [==============================] - 27s 551ms/step - loss: 55.1084\n",
      "Epoch 8/20\n",
      "50/50 [==============================] - 27s 533ms/step - loss: 53.8964\n",
      "Epoch 9/20\n",
      "50/50 [==============================] - 29s 579ms/step - loss: 52.6477\n",
      "Epoch 10/20\n",
      "50/50 [==============================] - 26s 530ms/step - loss: 51.7327\n",
      "Epoch 11/20\n",
      "50/50 [==============================] - 28s 568ms/step - loss: 50.4534\n",
      "Epoch 12/20\n",
      "50/50 [==============================] - 27s 531ms/step - loss: 48.9551\n",
      "Epoch 13/20\n",
      "50/50 [==============================] - 27s 534ms/step - loss: 48.2614\n",
      "Epoch 14/20\n",
      "50/50 [==============================] - 28s 564ms/step - loss: 47.1542\n",
      "Epoch 15/20\n",
      "50/50 [==============================] - 26s 532ms/step - loss: 46.4222\n",
      "Epoch 16/20\n",
      "50/50 [==============================] - 29s 578ms/step - loss: 45.2917\n",
      "Epoch 17/20\n",
      "50/50 [==============================] - 28s 566ms/step - loss: 44.5295\n",
      "Epoch 18/20\n",
      "50/50 [==============================] - 27s 522ms/step - loss: 43.6852\n",
      "Epoch 19/20\n",
      "50/50 [==============================] - 27s 540ms/step - loss: 43.0850\n",
      "Epoch 20/20\n",
      "50/50 [==============================] - 28s 561ms/step - loss: 41.7842\n"
     ]
    },
    {
     "data": {
      "text/plain": [
       "<tensorflow.python.keras.engine.functional.Functional at 0x7f36b029fb10>"
      ]
     },
     "execution_count": 46,
     "metadata": {
      "tags": []
     },
     "output_type": "execute_result"
    }
   ],
   "source": [
    "\n",
    "train(speech_cnn_rnn_model, dg, epochs=20, save_path=\"../models/cnn_rnn_model.h5\",  batch_size=batch_size)\n"
   ]
  },
  {
   "cell_type": "markdown",
   "id": "e236af04",
   "metadata": {},
   "source": [
    "#### Infer cnn_rnn_model"
   ]
  },
  {
   "cell_type": "code",
   "execution_count": 88,
   "id": "dc6aebad",
   "metadata": {},
   "outputs": [
    {
     "name": "stdout",
     "output_type": "stream",
     "text": [
      "actual የ ኖርዌይ የ ማእድን ካምፓኒ ኢትዮጵያ ውስጥ እንዲ ሰራ ፈቃድ ተሰጠው\n",
      "predicted  ስእሄ ን ሮ የ ማ እድደም ካን ፓ ንኔ ዲኢትዮጵያ ው ችጥ ክ ኒ ሳአራፈዋቀልሽሻት ታሁ\n",
      "WER: 1.36\n",
      "\n",
      "actual አደጋ ጣ ዮቹ ኢትዮጵያዊ ውን ሾፌር ሆን ብለው ከ ሌሎ ለ ይተው እንደ ገደሉት ም ተመልክ ቷል\n",
      "predicted ር ካዳጋያ ዳያበ ካከተር ጠ ያ ዊያን ሽው ሄያር ሀን ክላብ ንከ በር ሂ ር የ ከንደ ገደሩ ሳ ዳንነርክ ትለች\n",
      "WER: 1.24\n",
      "\n",
      "actual ብቻ እንደ ው ለ ነገሩ እንጂ ያነሳ ሁት ሙትን ለ መውቀስ ፈልጌ አይደለም\n",
      "predicted ብ ቻእንዳ ለ ላገበ እንጂ ያ ን ሰ ዎት ሙ ተች ለ መውቀሰ ፈልቄያይደድለ \n",
      "WER: 1.00\n",
      "\n",
      "actual እዚህ አካባቢ ያለው ወገናችን ብዙ እውነት ይናገራል\n",
      "predicted ጥጹት ስ ክት አንልላሩ ሀበራትጥምን በ ሶኦነክ እንና አልከራ \n",
      "WER: 1.29\n",
      "\n",
      "actual ዘነበ ች ሰራተኛዋ ን አታ ን ጓጉ ብላ ተቆጣ ቻት\n",
      "predicted ንነበ ች ራት ዋ ን አ ታ ን ባጉ በላ ተቆርጣ ቻት\n",
      "WER: 0.80\n",
      "\n",
      "actual ሶስተኛው ሜይን ፍሬ ም ኮምፒውተር ይባላል\n",
      "predicted እስት ተይ ኛ ው ሜይም ጥሬም ኰፒውሩታ ሪ ታና \n",
      "WER: 1.50\n",
      "\n",
      "actual ተድላ በልጅነ ቱ ቆረ በ\n",
      "predicted ተድ ላ በ ልዜን ቱ ቆእ ት አ\n",
      "WER: 1.40\n",
      "\n",
      "actual በዚህ ኮሚቴ ስር የ ቴክኒክ ኮሚቴ ይኖራል\n",
      "predicted በ ዚህ ኮሚቴ ሱር የ ቴክ ኒክ ኮሚቴ ይሞራት\n",
      "WER: 0.86\n",
      "\n",
      "actual ብዙ ጨዋታዎች ን እንደ ተመለከቱ ገልጸው ልናል\n",
      "predicted ብዙ ጨዋታዎች ን እንደ ተመለከቱ ገልጸው ልናል\n",
      "WER: 0.00\n",
      "\n",
      "actual ችግሩ ንም እንዲ ፈታ ጥረት እያደረግን ነው\n",
      "predicted ችግ ሩ ለም እንዲ ስፈት ተጥረት እያደረገን ናው\n",
      "WER: 1.00\n",
      "\n"
     ]
    }
   ],
   "source": [
    "speech_cnn_rnn_model.load_weights(\"../models/cnn_rnn_model.h5\")\n",
    "\n",
    "for k in range(10):\n",
    "    \n",
    "\n",
    "    i = random.randint(0, 3000)\n",
    "    \n",
    "    actual_translation = translations[i]\n",
    "    sample_test_audio = audios[i]\n",
    "\n",
    "    predicted, error = predict(speech_cnn_rnn_model, sample_test_audio,\n",
    "                               tokenizer, int_to_char, actual=actual_translation)\n",
    "   \n",
    "    print(\"actual\", actual_translation)\n",
    "    print(\"predicted\", predicted)\n",
    "    print(f\"WER: {error:.2f}\")\n",
    "\n",
    "    print()"
   ]
  },
  {
   "cell_type": "code",
   "execution_count": null,
   "id": "jlPXyg-VsNv9",
   "metadata": {
    "id": "jlPXyg-VsNv9"
   },
   "outputs": [],
   "source": []
  },
  {
   "cell_type": "code",
   "execution_count": null,
   "id": "w3VPIL4TsUhA",
   "metadata": {
    "id": "w3VPIL4TsUhA"
   },
   "outputs": [],
   "source": []
  },
  {
   "cell_type": "markdown",
   "id": "05bc8167",
   "metadata": {
    "id": "cN2FhIzesUkJ"
   },
   "source": [
    "## FINAL MODEL BETTER MODEL"
   ]
  },
  {
   "cell_type": "markdown",
   "id": "d6cbc38c",
   "metadata": {
    "id": "8I9rcUBqsUsE"
   },
   "source": [
    "### 3. Using CNN and Bi directional rnn"
   ]
  },
  {
   "cell_type": "code",
   "execution_count": 72,
   "id": "_Rz94NaiCLRk",
   "metadata": {
    "executionInfo": {
     "elapsed": 540,
     "status": "ok",
     "timestamp": 1628699450931,
     "user": {
      "displayName": "Daniel Zelalem",
      "photoUrl": "",
      "userId": "17933366000899068375"
     },
     "user_tz": -180
    },
    "id": "_Rz94NaiCLRk"
   },
   "outputs": [],
   "source": [
    "# since this model requires expenisive resource for training, we minimize the batch size to 32\n",
    "\n",
    "batch_size = 32\n",
    "dg = DataGenerator(translations, audios, batch_size, shuffle=True)\n",
    "\n"
   ]
  },
  {
   "cell_type": "markdown",
   "id": "0ae772a5",
   "metadata": {},
   "source": [
    "#### First we create a cnn model that expects a logmelespectrogram prediction as input"
   ]
  },
  {
   "cell_type": "code",
   "execution_count": 73,
   "id": "RJBipVrVyD18",
   "metadata": {
    "colab": {
     "base_uri": "https://localhost:8080/"
    },
    "executionInfo": {
     "elapsed": 556,
     "status": "ok",
     "timestamp": 1628699455132,
     "user": {
      "displayName": "Daniel Zelalem",
      "photoUrl": "",
      "userId": "17933366000899068375"
     },
     "user_tz": -180
    },
    "id": "RJBipVrVyD18",
    "outputId": "567e673d-42bc-40ac-b82a-0e6966675169"
   },
   "outputs": [
    {
     "name": "stdout",
     "output_type": "stream",
     "text": [
      "Model: \"cnn\"\n",
      "_________________________________________________________________\n",
      "Layer (type)                 Output Shape              Param #   \n",
      "=================================================================\n",
      "the_input (InputLayer)       [(None, None, 128, 1)]    0         \n",
      "_________________________________________________________________\n",
      "conv2d (Conv2D)              (None, None, 128, 128)    6400      \n",
      "_________________________________________________________________\n",
      "activation (Activation)      (None, None, 128, 128)    0         \n",
      "_________________________________________________________________\n",
      "batch_normalization_10 (Batc (None, None, 128, 128)    512       \n",
      "_________________________________________________________________\n",
      "max_pooling2d (MaxPooling2D) (None, None, 64, 128)     0         \n",
      "_________________________________________________________________\n",
      "conv2d_1 (Conv2D)            (None, None, 64, 64)      204864    \n",
      "_________________________________________________________________\n",
      "activation_1 (Activation)    (None, None, 64, 64)      0         \n",
      "_________________________________________________________________\n",
      "batch_normalization_11 (Batc (None, None, 64, 64)      256       \n",
      "_________________________________________________________________\n",
      "max_pooling2d_1 (MaxPooling2 (None, None, 32, 64)      0         \n",
      "_________________________________________________________________\n",
      "conv2d_2 (Conv2D)            (None, None, 32, 64)      36928     \n",
      "_________________________________________________________________\n",
      "activation_2 (Activation)    (None, None, 32, 64)      0         \n",
      "_________________________________________________________________\n",
      "batch_normalization_12 (Batc (None, None, 32, 64)      256       \n",
      "_________________________________________________________________\n",
      "max_pooling2d_2 (MaxPooling2 (None, None, 16, 64)      0         \n",
      "_________________________________________________________________\n",
      "reshape (Reshape)            (None, None, 1024)        0         \n",
      "=================================================================\n",
      "Total params: 249,216\n",
      "Trainable params: 248,704\n",
      "Non-trainable params: 512\n",
      "_________________________________________________________________\n"
     ]
    },
    {
     "data": {
      "text/plain": [
       "(None, TensorShape([None, None, 1024]))"
      ]
     },
     "execution_count": 73,
     "metadata": {},
     "output_type": "execute_result"
    }
   ],
   "source": [
    "cnn_model, cnn_shape = CNN_net(n_mels)\n",
    "cnn_model.summary(), cnn_shape"
   ]
  },
  {
   "cell_type": "markdown",
   "id": "2d4690c6",
   "metadata": {},
   "source": [
    "#### Create our Bi directional RNN"
   ]
  },
  {
   "cell_type": "code",
   "execution_count": 24,
   "id": "6wTL17mK3hg4",
   "metadata": {
    "colab": {
     "base_uri": "https://localhost:8080/"
    },
    "executionInfo": {
     "elapsed": 3640,
     "status": "ok",
     "timestamp": 1628699464815,
     "user": {
      "displayName": "Daniel Zelalem",
      "photoUrl": "",
      "userId": "17933366000899068375"
     },
     "user_tz": -180
    },
    "id": "6wTL17mK3hg4",
    "outputId": "02e6d5b8-3326-4f57-c101-3fcbb215e2c2"
   },
   "outputs": [
    {
     "name": "stdout",
     "output_type": "stream",
     "text": [
      "Model: \"BidirectionalRNN\"\n",
      "_________________________________________________________________\n",
      "Layer (type)                 Output Shape              Param #   \n",
      "=================================================================\n",
      "the_input (InputLayer)       [(None, None, 1024)]      0         \n",
      "_________________________________________________________________\n",
      "bidirectional (Bidirectional (None, None, 800)         4560000   \n",
      "_________________________________________________________________\n",
      "batch_normalization_4 (Batch (None, None, 800)         3200      \n",
      "_________________________________________________________________\n",
      "dropout (Dropout)            (None, None, 800)         0         \n",
      "_________________________________________________________________\n",
      "bidirectional_1 (Bidirection (None, None, 800)         3843200   \n",
      "_________________________________________________________________\n",
      "batch_normalization_5 (Batch (None, None, 800)         3200      \n",
      "_________________________________________________________________\n",
      "dropout_1 (Dropout)          (None, None, 800)         0         \n",
      "_________________________________________________________________\n",
      "bidirectional_2 (Bidirection (None, None, 800)         3843200   \n",
      "_________________________________________________________________\n",
      "batch_normalization_6 (Batch (None, None, 800)         3200      \n",
      "_________________________________________________________________\n",
      "dropout_2 (Dropout)          (None, None, 800)         0         \n",
      "_________________________________________________________________\n",
      "bidirectional_3 (Bidirection (None, None, 800)         3843200   \n",
      "_________________________________________________________________\n",
      "batch_normalization_7 (Batch (None, None, 800)         3200      \n",
      "_________________________________________________________________\n",
      "dropout_3 (Dropout)          (None, None, 800)         0         \n",
      "_________________________________________________________________\n",
      "time_distributed (TimeDistri (None, None, 223)         178623    \n",
      "_________________________________________________________________\n",
      "softmax (Activation)         (None, None, 223)         0         \n",
      "=================================================================\n",
      "Total params: 16,281,023\n",
      "Trainable params: 16,274,623\n",
      "Non-trainable params: 6,400\n",
      "_________________________________________________________________\n"
     ]
    }
   ],
   "source": [
    "BI_RNN_2 = BidirectionalRNN2(1024, batch_size=batch_size, output_dim=output_dim)\n",
    "BI_RNN_2.summary()"
   ]
  },
  {
   "cell_type": "markdown",
   "id": "8d35841f",
   "metadata": {},
   "source": [
    "#### Define a builder that stacks preprocess_model, cnn_model and the custom model(BI-RNN) into a single model"
   ]
  },
  {
   "cell_type": "code",
   "execution_count": 75,
   "id": "fA-kpf8c5a0W",
   "metadata": {
    "executionInfo": {
     "elapsed": 5,
     "status": "ok",
     "timestamp": 1628699465570,
     "user": {
      "displayName": "Daniel Zelalem",
      "photoUrl": "",
      "userId": "17933366000899068375"
     },
     "user_tz": -180
    },
    "id": "fA-kpf8c5a0W"
   },
   "outputs": [],
   "source": [
    "def build_model2(output_dim, cnn_model, custom_model, preprocess_model, mfcc=False, calc=None):\n",
    "\n",
    "    input_audios = Input(name='the_input', shape=(None,))\n",
    "    pre = preprocess_model(input_audios)\n",
    "    pre = tf.squeeze(pre, [3])\n",
    "\n",
    "    cnn_output = cnn_model(pre)\n",
    "\n",
    "    y_pred = custom_model(cnn_output)\n",
    "    model = Model(inputs=input_audios, outputs=y_pred, name=\"model_builder\")\n",
    "    model.output_length = calc\n",
    "\n",
    "    return model"
   ]
  },
  {
   "cell_type": "markdown",
   "id": "52cfbef3",
   "metadata": {},
   "source": [
    "#### Building our cnn-bi-rnn model using build2 function"
   ]
  },
  {
   "cell_type": "code",
   "execution_count": 26,
   "id": "jmo82oGp5xa8",
   "metadata": {
    "colab": {
     "base_uri": "https://localhost:8080/"
    },
    "executionInfo": {
     "elapsed": 3570,
     "status": "ok",
     "timestamp": 1628699471716,
     "user": {
      "displayName": "Daniel Zelalem",
      "photoUrl": "",
      "userId": "17933366000899068375"
     },
     "user_tz": -180
    },
    "id": "jmo82oGp5xa8",
    "outputId": "53400ce2-cee7-4401-bf0b-6030a37ac4d0"
   },
   "outputs": [
    {
     "name": "stdout",
     "output_type": "stream",
     "text": [
      "Model: \"model_builder\"\n",
      "_________________________________________________________________\n",
      "Layer (type)                 Output Shape              Param #   \n",
      "=================================================================\n",
      "the_input (InputLayer)       [(None, None)]            0         \n",
      "_________________________________________________________________\n",
      "preprocessin_model (Function (None, None, 128, 1)      512       \n",
      "_________________________________________________________________\n",
      "tf.compat.v1.squeeze (TFOpLa (None, None, 128)         0         \n",
      "_________________________________________________________________\n",
      "cnn (Functional)             (None, None, 1024)        249216    \n",
      "_________________________________________________________________\n",
      "BidirectionalRNN (Functional (None, None, 223)         16281023  \n",
      "=================================================================\n",
      "Total params: 16,530,751\n",
      "Trainable params: 16,523,583\n",
      "Non-trainable params: 7,168\n",
      "_________________________________________________________________\n"
     ]
    }
   ],
   "source": [
    "cnn_bi_rnn_model = build_model2(output_dim, cnn_model, BI_RNN_2, preprocess_model)\n",
    "cnn_bi_rnn_model.summary()"
   ]
  },
  {
   "cell_type": "code",
   "execution_count": 94,
   "id": "X38CX655C2hb",
   "metadata": {
    "executionInfo": {
     "elapsed": 4,
     "status": "ok",
     "timestamp": 1628699512025,
     "user": {
      "displayName": "Daniel Zelalem",
      "photoUrl": "",
      "userId": "17933366000899068375"
     },
     "user_tz": -180
    },
    "id": "X38CX655C2hb"
   },
   "outputs": [],
   "source": [
    "# if a pretrained model exists load pretrained model\n",
    "try:\n",
    "    cnn_bi_rnn_model.load_weights(\"../models/cnn-bi-rnn.h5\")\n",
    "except:\n",
    "    pass"
   ]
  },
  {
   "cell_type": "markdown",
   "id": "496512a1",
   "metadata": {},
   "source": [
    "#### Training"
   ]
  },
  {
   "cell_type": "code",
   "execution_count": 83,
   "id": "VpezKF8CAReX",
   "metadata": {
    "colab": {
     "base_uri": "https://localhost:8080/",
     "height": 956
    },
    "executionInfo": {
     "elapsed": 39382,
     "status": "error",
     "timestamp": 1628699374537,
     "user": {
      "displayName": "Daniel Zelalem",
      "photoUrl": "",
      "userId": "17933366000899068375"
     },
     "user_tz": -180
    },
    "id": "VpezKF8CAReX",
    "outputId": "53e03b76-3415-490a-ad59-872f9dfdfaf9"
   },
   "outputs": [],
   "source": [
    "\n",
    "train(cnn_bi_rnn_model, dg, epochs=20, save_path=\"../models/cnn_bi_rnn_model.h5\",  batch_size=batch_size)\n"
   ]
  },
  {
   "cell_type": "markdown",
   "id": "b3982b40",
   "metadata": {},
   "source": [
    "#### Inference"
   ]
  },
  {
   "cell_type": "code",
   "execution_count": 82,
   "id": "SYqCyyi0SIYG",
   "metadata": {
    "colab": {
     "base_uri": "https://localhost:8080/"
    },
    "executionInfo": {
     "elapsed": 26235,
     "status": "ok",
     "timestamp": 1628699510451,
     "user": {
      "displayName": "Daniel Zelalem",
      "photoUrl": "",
      "userId": "17933366000899068375"
     },
     "user_tz": -180
    },
    "id": "SYqCyyi0SIYG",
    "outputId": "0941430e-f042-4fa9-c40f-c0041a153884"
   },
   "outputs": [
    {
     "name": "stdout",
     "output_type": "stream",
     "text": [
      "actual ሀያት ተባባሪ ዎቹ ና ተሳታፊ ዎቹን አወያየ\n",
      "predicted ሀያት ተባረ ዎች ና ተሻታሺ ዎች ን አጐራ የጀ\n",
      "WER: 1.00\n",
      "\n",
      "actual እንዲያ መሬት አይ ን ካ ኝ ይል የነበረ ሰው በ ድንገት ቆረቆዘ አይደል\n",
      "predicted እንዲያ መሬት አይ ን ካ ኝ ይል የነበረ ሰው በ ድንገት ቆረቆዘ አይደል\n",
      "WER: 0.00\n",
      "\n",
      "actual ቡድናችን የ ተሸነፈ ው እ ኮ ከ ቅዱስ ጊዮርጊስ ጋር ስን ጫወት ብቻ ነው\n",
      "predicted ቡድናችን የ ተሸነ ፈ ውእ ኮ ከህረ ቅዱስ ጊዮርጊስ ጋር ስን ጫ ወጥ ብቻ ሉ\n",
      "WER: 0.50\n",
      "\n",
      "actual ፈ ቲያ ሰኢድ ወይዘሪት አዲስ አበባ ተባለች\n",
      "predicted ከ ቲያ ፈቂድ ወዘሪት አዲስ አበባ ተታለች\n",
      "WER: 0.57\n",
      "\n",
      "actual እጀ ጐልዳ ፋው ሰው ዬ መጻፍ አይችልም\n",
      "predicted እጀ ጐልዳ ፋው ሰው ዬ መጻፍ አይችልም\n",
      "WER: 0.00\n",
      "\n",
      "actual የ ኢትዮጵያ ነጻ ፕሬስ ጋዜጠኞች ማህበር ጽፈት ቤት ና የ ኢትዮ ታይም ቢሮ ተዘረፈ\n",
      "predicted የ ኢትዮጵያ ነጻ ፐሬስ ካዜጠኞሽ ማህባል ጽፈት ቤት ና የ ኢትዮ ታይል ዜሮ ተዘረራ ት\n",
      "WER: 0.50\n",
      "\n",
      "actual በ አውሮፓ ውስጥ አንድ መቶ ሀምሳ ቢሊዮን ቴሌቪዥን አለ\n",
      "predicted በ አውርታው ውስጥ አንድ መት ሀብሳብ ቢሊዮየን ን ቴክኬክሽን አለ\n",
      "WER: 0.67\n",
      "\n",
      "actual በ ኦልድ ትራ ፎርድ ማንቸስተር ዩናትድ ብላክበርን ን አስተናግ ዷል\n",
      "predicted ተቆል ድ ትራ ፎርድ ማንቸስተር ዩናትድ ትላክበርለን አስተናግ ዷል\n",
      "WER: 0.40\n",
      "\n",
      "actual ኢትዮጵያ ለ ደረሰባት ለሚደርስ ባት የእኔ ም የ እሳቸው ም የ ሁላችን ም እጅ አለ በት\n",
      "predicted ኢትዮጵያ ለ ደረሰባት ለሚደርስ ዛት የ እኔ ም የ እሳቸው ም የ ሁላችን ም ጥይጅ አለ በት\n",
      "WER: 0.25\n",
      "\n",
      "actual በሮማ በ ተደረገው ጨዋታ ሮማ ፍሮዬንቲ ና አስተናግ ዶ በድል ተ ወጥቶ አል\n",
      "predicted በሮማ በ ተደረገው ጨዋታ አሮማ ፍሮ ዬንቺ ና አስተናግ ዶ በድል ተ ወጥጧ አል\n",
      "WER: 0.31\n",
      "\n"
     ]
    }
   ],
   "source": [
    "\n",
    "cnn_bi_rnn_model.load_weights(\"../models/cnn-bi-rnn.h5\")\n",
    "for k in range(10):\n",
    "    \n",
    "\n",
    "    i = random.randint(0, 3000)\n",
    "    \n",
    "    actual_translation = translations[i]\n",
    "    sample_test_audio = audios[i]\n",
    "\n",
    "    predicted, error = predict(cnn_bi_rnn_model, sample_test_audio,\n",
    "                               tokenizer, int_to_char, actual=actual_translation)\n",
    "   \n",
    "    print(\"actual\", actual_translation)\n",
    "    print(\"predicted\", predicted)\n",
    "    print(f\"WER: {error:.2f}\")\n",
    "\n",
    "    print()\n",
    "    \n"
   ]
  },
  {
   "cell_type": "code",
   "execution_count": 100,
   "id": "488565d3",
   "metadata": {},
   "outputs": [
    {
     "name": "stdout",
     "output_type": "stream",
     "text": [
      "WARNING:tensorflow:Compiled the loaded model, but the compiled metrics have yet to be built. `model.compile_metrics` will be empty until you train or evaluate the model.\n"
     ]
    }
   ],
   "source": [
    "cnn_bi_rnn_model.save('../models/final_speech_model.h5')\n"
   ]
  },
  {
   "cell_type": "code",
   "execution_count": null,
   "id": "8154784f",
   "metadata": {},
   "outputs": [],
   "source": []
  },
  {
   "cell_type": "code",
   "execution_count": null,
   "id": "3dd4407b",
   "metadata": {},
   "outputs": [],
   "source": []
  }
 ],
 "metadata": {
  "accelerator": "GPU",
  "colab": {
   "collapsed_sections": [],
   "name": "ModelTrain.ipynb",
   "provenance": []
  },
  "kernelspec": {
   "display_name": "Python 3",
   "language": "python",
   "name": "python3"
  },
  "language_info": {
   "codemirror_mode": {
    "name": "ipython",
    "version": 3
   },
   "file_extension": ".py",
   "mimetype": "text/x-python",
   "name": "python",
   "nbconvert_exporter": "python",
   "pygments_lexer": "ipython3",
   "version": "3.9.4"
  }
 },
 "nbformat": 4,
 "nbformat_minor": 5
}
