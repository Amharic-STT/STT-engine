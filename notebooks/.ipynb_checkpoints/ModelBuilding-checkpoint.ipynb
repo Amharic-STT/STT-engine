{
 "cells": [
  {
   "cell_type": "code",
   "execution_count": 1,
   "id": "c34a6094",
   "metadata": {
    "id": "c34a6094"
   },
   "outputs": [],
   "source": [
    "import os\n",
    "import sys\n",
    "sys.path.append(os.path.abspath(os.path.join('../scripts')))\n",
    "# sys.path.append(os.path.abspath(os.path.join('./scripts')))\n",
    "\n",
    "import IPython.display as ipd\n",
    "import matplotlib.pyplot as plt\n",
    "import numpy as np\n",
    "from scipy.io import wavfile #for audio processing\n",
    "import os\n",
    "import pickle\n",
    "import pandas as pd\n",
    "from collections import Counter\n",
    "\n",
    "import tensorflow as tf\n",
    "from tensorflow.keras.models import Model, Sequential\n",
    "from tensorflow.keras.layers import * \n",
    "from tensorflow.keras.preprocessing.sequence import pad_sequences\n",
    "from tensorflow.keras.optimizers import SGD, Adam, RMSprop\n",
    "from tensorflow.keras import backend as K\n",
    "# import mlflow"
   ]
  },
  {
   "cell_type": "code",
   "execution_count": 11,
   "id": "14DrOASH1-ag",
   "metadata": {
    "id": "14DrOASH1-ag"
   },
   "outputs": [],
   "source": [
    "# !ln -s ./drive/MyDrive/SST/data/ ./\n",
    "# !ln -s ./drive/MyDrive/SST/scripts/* ./"
   ]
  },
  {
   "cell_type": "code",
   "execution_count": 1,
   "id": "IQLOtaNr2GSB",
   "metadata": {
    "colab": {
     "base_uri": "https://localhost:8080/"
    },
    "id": "IQLOtaNr2GSB",
    "outputId": "4b8c1b8c-5741-42f7-df52-742e311dd61b"
   },
   "outputs": [
    {
     "name": "stdout",
     "output_type": "stream",
     "text": [
      "Mounted at /content/drive\n"
     ]
    }
   ],
   "source": [
    "# from google.colab import drive\n",
    "# drive.mount('/content/drive')"
   ]
  },
  {
   "cell_type": "code",
   "execution_count": 2,
   "id": "acf88600",
   "metadata": {
    "id": "acf88600"
   },
   "outputs": [],
   "source": [
    "import helper\n"
   ]
  },
  {
   "cell_type": "code",
   "execution_count": 4,
   "id": "4f219ca9",
   "metadata": {
    "id": "4f219ca9"
   },
   "outputs": [],
   "source": [
    "from data_generator import DataGenerator\n",
    "from data_loader import DataLoader\n",
    "from tokenizer import Tokenizer\n",
    "from logspectrorgam import LogMelSpectrogram\n",
    "from bidirectionalRNN import BidirectionalRNN\n",
    "from simpleRNN import simple_rnn_model\n",
    "from ctc_loss import add_ctc_loss"
   ]
  },
  {
   "cell_type": "code",
   "execution_count": null,
   "id": "mq2pY885Hd64",
   "metadata": {
    "id": "mq2pY885Hd64"
   },
   "outputs": [],
   "source": []
  },
  {
   "cell_type": "code",
   "execution_count": 5,
   "id": "4b39d89d",
   "metadata": {
    "id": "4b39d89d"
   },
   "outputs": [],
   "source": [
    "sample_rate = 8000"
   ]
  },
  {
   "cell_type": "code",
   "execution_count": 6,
   "id": "09c8fa57",
   "metadata": {
    "id": "09c8fa57"
   },
   "outputs": [],
   "source": [
    "def preprocessin_model(sample_rate, fft_size, frame_step, n_mels, mfcc=False):\n",
    "\n",
    "    input_data = Input(name='input', shape=(None,), dtype=\"float32\")\n",
    "    featLayer = LogMelSpectrogram(\n",
    "        fft_size=fft_size,\n",
    "        hop_size=frame_step,\n",
    "        n_mels=n_mels,\n",
    "        \n",
    "        sample_rate=sample_rate,\n",
    "        f_min=0.0,\n",
    "        \n",
    "        f_max=int(sample_rate / 2)\n",
    "    )(input_data)\n",
    "    \n",
    "    x = BatchNormalization()(featLayer)\n",
    "    model = Model(inputs=input_data, outputs=x, name=\"preprocessin_model\")\n",
    "\n",
    "    return model"
   ]
  },
  {
   "cell_type": "code",
   "execution_count": 7,
   "id": "7d82a51e",
   "metadata": {
    "id": "7d82a51e"
   },
   "outputs": [],
   "source": [
    "def BidirectionalRNN(input_dim, batch_size, sample_rate=22000,\n",
    "                     rnn_layers=2, units=400, drop_out=0.5, act='tanh', output_dim=224):\n",
    "\n",
    "    input_data = Input(name='the_input', shape=(\n",
    "        None, input_dim), batch_size=batch_size)\n",
    "    \n",
    "\n",
    "\n",
    "    \n",
    "    x = Bidirectional(LSTM(units,  activation=act,\n",
    "                      return_sequences=True, implementation=2))(input_data)\n",
    "    \n",
    "    x = BatchNormalization()(x)\n",
    "    x = Dropout(drop_out)(x)\n",
    "\n",
    "    for i in range(rnn_layers - 2):\n",
    "        x = Bidirectional(\n",
    "            LSTM(units, activation=act, return_sequences=True))(x)\n",
    "        x = BatchNormalization()(x)\n",
    "        x = Dropout(drop_out)(x)\n",
    "\n",
    "    x = Bidirectional(LSTM(units,  activation=act,\n",
    "                      return_sequences=True, implementation=2))(x)\n",
    "    x = BatchNormalization()(x)\n",
    "    x = Dropout(drop_out)(x)\n",
    "\n",
    "    time_dense = TimeDistributed(Dense(output_dim))(x)\n",
    "\n",
    "    y_pred = Activation('softmax', name='softmax')(time_dense)\n",
    "\n",
    "    model = Model(inputs=input_data, outputs=y_pred, name=\"BidirectionalRNN\")\n",
    "\n",
    "    return model"
   ]
  },
  {
   "cell_type": "code",
   "execution_count": 8,
   "id": "bf0de92e",
   "metadata": {
    "id": "bf0de92e"
   },
   "outputs": [],
   "source": [
    "def simple_rnn_model(input_dim, output_dim=224):\n",
    "\n",
    "    input_data = Input(name='the_input', shape=(None, input_dim))\n",
    "    simp_rnn = GRU(output_dim, return_sequences=True,\n",
    "                   implementation=2, name='rnn')(input_data)\n",
    "    y_pred = Activation('softmax', name='softmax')(simp_rnn)\n",
    "    model = Model(inputs=input_data, outputs=y_pred, name=\"simple_rnn_model\")\n",
    "    model.output_length = lambda x: x\n",
    "    return model"
   ]
  },
  {
   "cell_type": "code",
   "execution_count": 9,
   "id": "7abeb89a",
   "metadata": {
    "id": "7abeb89a"
   },
   "outputs": [],
   "source": [
    "def train(model_builder, \n",
    "          data_len,\n",
    "          data_gen,\n",
    "          batch_size = 25,\n",
    "          epochs=20, \n",
    "          verbose=1,\n",
    "          optimizer=SGD(learning_rate=0.002, decay=1e-6, momentum=0.9, nesterov=True, clipnorm=5),\n",
    "          ):    \n",
    "              \n",
    "    model = add_ctc_loss(model_builder)\n",
    "\n",
    "    model.compile(loss={'ctc': lambda y_true, y_pred: y_pred}, optimizer=optimizer)\n",
    "    print(model.summary())\n",
    "\n",
    "\n",
    "    hist = model.fit_generator(generator=data_gen,\n",
    "                               epochs=epochs,\n",
    "                               verbose=verbose, \n",
    "                               use_multiprocessing=False)\n",
    "    return model"
   ]
  },
  {
   "cell_type": "code",
   "execution_count": 11,
   "id": "3f654a55",
   "metadata": {
    "id": "3f654a55"
   },
   "outputs": [],
   "source": [
    "translation_obj = helper.read_obj(\"../data/translation_dict.pkl\")\n",
    "audio_obj = helper.read_obj(\"../data/audio_dict.pkl\")\n",
    "\n",
    "# translation_obj = helper.read_obj(\"./data/translation_dict.pkl\")\n",
    "# audio_obj = helper.read_obj(\"./data/audio_dict.pkl\")\n",
    "# meta_data = data_loader.create_meta_data(translation_obj, audio_obj)"
   ]
  },
  {
   "cell_type": "code",
   "execution_count": 12,
   "id": "ef6a4e11",
   "metadata": {
    "id": "ef6a4e11"
   },
   "outputs": [],
   "source": [
    "audios = []\n",
    "for label in audio_obj:\n",
    "    audios.append(audio_obj[label][0])\n",
    "    \n",
    "translations = []\n",
    "for label in audio_obj:\n",
    "    translations.append(translation_obj[label])"
   ]
  },
  {
   "cell_type": "code",
   "execution_count": 13,
   "id": "107cd033",
   "metadata": {
    "colab": {
     "base_uri": "https://localhost:8080/"
    },
    "id": "107cd033",
    "outputId": "01183903-661c-444c-8546-74b3fa069b6a"
   },
   "outputs": [
    {
     "name": "stdout",
     "output_type": "stream",
     "text": [
      "sample snt: የተለያዩ የ ትግራይ አውራጃ ተወላጆች ገንዘባቸው ን አዋጥ ተው የ ልማት ተቋማትን እንዲ መሰርቱ ትልማ አይ ፈቅድ ም\n",
      "encoded snt: [7, 8, 11, 6, 131, 1, 7, 1, 3, 28, 27, 24, 1, 10, 4, 27, 115, 1, 8, 37, 29, 149, 18, 1, 21, 2, 65, 23, 26, 4, 1, 2, 1, 10, 41, 43, 1, 8, 4, 1, 7, 1, 12, 22, 3, 1, 8, 88, 22, 3, 2, 1, 13, 2, 49, 1, 15, 31, 14, 69, 1, 3, 12, 22, 1, 10, 24, 1, 61, 45, 32, 1, 16]\n",
      "decoed snt: የተለያዩ የ ትግራይ አውራጃ ተወላጆች ገንዘባቸው ን አዋጥ ተው የ ልማት ተቋማትን እንዲ መሰርቱ ትልማ አይ ፈቅድ ም\n"
     ]
    }
   ],
   "source": [
    "tokenizer = Tokenizer(translations)\n",
    "int_to_char, char_to_int = tokenizer.build_dict()\n",
    "sample = translations[0]\n",
    "encoded = tokenizer.encode(sample, char_to_int)\n",
    "decoded = tokenizer.decode_text(sample, encoded)\n",
    "\n",
    "print(f\"sample snt: {sample}\")\n",
    "print(f\"encoded snt: {encoded}\")\n",
    "print(f\"decoed snt: {decoded}\")"
   ]
  },
  {
   "cell_type": "code",
   "execution_count": 14,
   "id": "bdea9379",
   "metadata": {
    "id": "bdea9379"
   },
   "outputs": [],
   "source": [
    "\n",
    "sample_rate = 22000\n",
    "fft_size = 1024\n",
    "frame_step = 512\n",
    "n_mels = 128\n",
    "\n",
    "batch_size = 100\n",
    "epochs = 20\n",
    "data_len = len(translations)\n",
    "output_dim = len(char_to_int) + 2\n"
   ]
  },
  {
   "cell_type": "code",
   "execution_count": 15,
   "id": "cb25dda1",
   "metadata": {
    "colab": {
     "base_uri": "https://localhost:8080/"
    },
    "id": "cb25dda1",
    "outputId": "ad3a5666-fdb3-4f63-c2aa-75395ec55778"
   },
   "outputs": [
    {
     "name": "stdout",
     "output_type": "stream",
     "text": [
      "Model: \"preprocessin_model\"\n",
      "_________________________________________________________________\n",
      "Layer (type)                 Output Shape              Param #   \n",
      "=================================================================\n",
      "input (InputLayer)           [(None, None)]            0         \n",
      "_________________________________________________________________\n",
      "log_mel_spectrogram (LogMelS (None, None, 128, 1)      0         \n",
      "_________________________________________________________________\n",
      "batch_normalization (BatchNo (None, None, 128, 1)      4         \n",
      "=================================================================\n",
      "Total params: 4\n",
      "Trainable params: 2\n",
      "Non-trainable params: 2\n",
      "_________________________________________________________________\n"
     ]
    }
   ],
   "source": [
    "dg = DataGenerator(translations, audios, batch_size)\n",
    "preprocess_model = preprocessin_model(sample_rate, fft_size, frame_step, n_mels)\n",
    "preprocess_model.summary()"
   ]
  },
  {
   "cell_type": "code",
   "execution_count": 16,
   "id": "e43ae703",
   "metadata": {
    "colab": {
     "base_uri": "https://localhost:8080/"
    },
    "id": "e43ae703",
    "outputId": "0ad5d8e9-83fe-4c51-ff45-54afc631e1e9"
   },
   "outputs": [
    {
     "name": "stdout",
     "output_type": "stream",
     "text": [
      "Model: \"simple_rnn_model\"\n",
      "_________________________________________________________________\n",
      "Layer (type)                 Output Shape              Param #   \n",
      "=================================================================\n",
      "the_input (InputLayer)       [(None, None, 128)]       0         \n",
      "_________________________________________________________________\n",
      "rnn (GRU)                    (None, None, 223)         236157    \n",
      "_________________________________________________________________\n",
      "softmax (Activation)         (None, None, 223)         0         \n",
      "=================================================================\n",
      "Total params: 236,157\n",
      "Trainable params: 236,157\n",
      "Non-trainable params: 0\n",
      "_________________________________________________________________\n"
     ]
    }
   ],
   "source": [
    "speech_model = simple_rnn_model(n_mels, output_dim)\n",
    "speech_model.summary()\n",
    "# speech_model = BidirectionalRNN(n_mels, output_dim=output_dim)\n",
    "# speech_model.summary()"
   ]
  },
  {
   "cell_type": "code",
   "execution_count": 17,
   "id": "3675d659",
   "metadata": {
    "id": "3675d659"
   },
   "outputs": [],
   "source": [
    "def build_model(output_dim, custom_model, preprocess_model, mfcc=False, calc=None):\n",
    "\n",
    "    input_audios = Input(name='the_input', shape=(None,))\n",
    "    pre = preprocess_model(input_audios)\n",
    "    pre = tf.squeeze(pre, [3])\n",
    "\n",
    "    y_pred = custom_model(pre)\n",
    "    model = Model(inputs=input_audios, outputs=y_pred, name=\"model_builder\")\n",
    "    model.output_length = calc\n",
    "\n",
    "    return model"
   ]
  },
  {
   "cell_type": "code",
   "execution_count": 18,
   "id": "b8e25a3f",
   "metadata": {
    "colab": {
     "base_uri": "https://localhost:8080/"
    },
    "id": "b8e25a3f",
    "outputId": "18d4cae2-dc85-4404-ef73-541c47b08de3"
   },
   "outputs": [
    {
     "name": "stdout",
     "output_type": "stream",
     "text": [
      "Model: \"model_builder\"\n",
      "_________________________________________________________________\n",
      "Layer (type)                 Output Shape              Param #   \n",
      "=================================================================\n",
      "the_input (InputLayer)       [(None, None)]            0         \n",
      "_________________________________________________________________\n",
      "preprocessin_model (Function (None, None, 128, 1)      4         \n",
      "_________________________________________________________________\n",
      "tf.compat.v1.squeeze (TFOpLa (None, None, 128)         0         \n",
      "_________________________________________________________________\n",
      "simple_rnn_model (Functional (None, None, 223)         236157    \n",
      "=================================================================\n",
      "Total params: 236,161\n",
      "Trainable params: 236,159\n",
      "Non-trainable params: 2\n",
      "_________________________________________________________________\n"
     ]
    }
   ],
   "source": [
    "model = build_model(output_dim, speech_model, preprocess_model)\n",
    "model.summary()"
   ]
  },
  {
   "cell_type": "code",
   "execution_count": 19,
   "id": "01feee42",
   "metadata": {
    "colab": {
     "base_uri": "https://localhost:8080/"
    },
    "id": "01feee42",
    "outputId": "27d4f86d-b612-40c4-8fca-ac51ddc8aabf"
   },
   "outputs": [
    {
     "name": "stdout",
     "output_type": "stream",
     "text": [
      "Model: \"model\"\n",
      "__________________________________________________________________________________________________\n",
      "Layer (type)                    Output Shape         Param #     Connected to                     \n",
      "==================================================================================================\n",
      "the_input (InputLayer)          [(None, None)]       0                                            \n",
      "__________________________________________________________________________________________________\n",
      "preprocessin_model (Functional) (None, None, 128, 1) 4           the_input[0][0]                  \n",
      "__________________________________________________________________________________________________\n",
      "tf.compat.v1.squeeze (TFOpLambd (None, None, 128)    0           preprocessin_model[0][0]         \n",
      "__________________________________________________________________________________________________\n",
      "input_length (InputLayer)       [(None, 1)]          0                                            \n",
      "__________________________________________________________________________________________________\n",
      "simple_rnn_model (Functional)   (None, None, 223)    236157      tf.compat.v1.squeeze[0][0]       \n",
      "__________________________________________________________________________________________________\n",
      "the_labels (InputLayer)         [(None, None)]       0                                            \n",
      "__________________________________________________________________________________________________\n",
      "lambda (Lambda)                 (None, 1)            0           input_length[0][0]               \n",
      "__________________________________________________________________________________________________\n",
      "label_length (InputLayer)       [(None, 1)]          0                                            \n",
      "__________________________________________________________________________________________________\n",
      "ctc (Lambda)                    (None, 1)            0           simple_rnn_model[0][0]           \n",
      "                                                                 the_labels[0][0]                 \n",
      "                                                                 lambda[0][0]                     \n",
      "                                                                 label_length[0][0]               \n",
      "==================================================================================================\n",
      "Total params: 236,161\n",
      "Trainable params: 236,159\n",
      "Non-trainable params: 2\n",
      "__________________________________________________________________________________________________\n",
      "None\n"
     ]
    },
    {
     "name": "stderr",
     "output_type": "stream",
     "text": [
      "/usr/local/lib/python3.7/dist-packages/tensorflow/python/keras/engine/training.py:1940: UserWarning: `Model.fit_generator` is deprecated and will be removed in a future version. Please use `Model.fit`, which supports generators.\n",
      "  warnings.warn('`Model.fit_generator` is deprecated and '\n"
     ]
    },
    {
     "name": "stdout",
     "output_type": "stream",
     "text": [
      "Epoch 1/20\n",
      "50/50 [==============================] - 21s 255ms/step - loss: 304.8776\n",
      "Epoch 2/20\n",
      "50/50 [==============================] - 13s 250ms/step - loss: 283.8912\n",
      "Epoch 3/20\n",
      "50/50 [==============================] - 12s 247ms/step - loss: 282.6390\n",
      "Epoch 4/20\n",
      "50/50 [==============================] - 12s 245ms/step - loss: 281.4655\n",
      "Epoch 5/20\n",
      "50/50 [==============================] - 13s 252ms/step - loss: 280.4712\n",
      "Epoch 6/20\n",
      "50/50 [==============================] - 13s 251ms/step - loss: 279.6336\n",
      "Epoch 7/20\n",
      "50/50 [==============================] - 13s 254ms/step - loss: 278.8824\n",
      "Epoch 8/20\n",
      "50/50 [==============================] - 13s 250ms/step - loss: 278.1714\n",
      "Epoch 9/20\n",
      "50/50 [==============================] - 13s 252ms/step - loss: 277.3467\n",
      "Epoch 10/20\n",
      "50/50 [==============================] - 13s 251ms/step - loss: 276.6238\n",
      "Epoch 11/20\n",
      "50/50 [==============================] - 13s 250ms/step - loss: 275.9830\n",
      "Epoch 12/20\n",
      "50/50 [==============================] - 13s 254ms/step - loss: 275.4073\n",
      "Epoch 13/20\n",
      "50/50 [==============================] - 13s 250ms/step - loss: 274.8744\n",
      "Epoch 14/20\n",
      "50/50 [==============================] - 13s 250ms/step - loss: 274.4152\n",
      "Epoch 15/20\n",
      "50/50 [==============================] - 12s 248ms/step - loss: 273.9893\n",
      "Epoch 16/20\n",
      "50/50 [==============================] - 12s 246ms/step - loss: 273.5615\n",
      "Epoch 17/20\n",
      "50/50 [==============================] - 12s 245ms/step - loss: 273.1783\n",
      "Epoch 18/20\n",
      "50/50 [==============================] - 12s 248ms/step - loss: 272.8291\n",
      "Epoch 19/20\n",
      "50/50 [==============================] - 12s 247ms/step - loss: 272.4904\n",
      "Epoch 20/20\n",
      "50/50 [==============================] - 12s 248ms/step - loss: 272.1909\n"
     ]
    }
   ],
   "source": [
    "# mlflow.set_experiment('Speech Model-RNN-baseline')\n",
    "# mlflow.tensorflow.autolog()\n",
    "train(model, 100, dg, epochs=20,  batch_size=100)"
   ]
  },
  {
   "cell_type": "code",
   "execution_count": null,
   "id": "bb0d2a74",
   "metadata": {
    "id": "bb0d2a74"
   },
   "outputs": [],
   "source": []
  },
  {
   "cell_type": "markdown",
   "id": "ELpBgKqpKLAt",
   "metadata": {
    "id": "ELpBgKqpKLAt"
   },
   "source": [
    "### `Using Bi-rnn`"
   ]
  },
  {
   "cell_type": "code",
   "execution_count": 22,
   "id": "4ocFWgzOKHj1",
   "metadata": {
    "colab": {
     "base_uri": "https://localhost:8080/"
    },
    "id": "4ocFWgzOKHj1",
    "outputId": "8b70763f-cf5b-4e55-ec58-13fa42149203"
   },
   "outputs": [
    {
     "name": "stdout",
     "output_type": "stream",
     "text": [
      "Model: \"BidirectionalRNN\"\n",
      "_________________________________________________________________\n",
      "Layer (type)                 Output Shape              Param #   \n",
      "=================================================================\n",
      "the_input (InputLayer)       [(100, None, 128)]        0         \n",
      "_________________________________________________________________\n",
      "bidirectional (Bidirectional (100, None, 800)          1692800   \n",
      "_________________________________________________________________\n",
      "batch_normalization_1 (Batch (100, None, 800)          3200      \n",
      "_________________________________________________________________\n",
      "dropout (Dropout)            (100, None, 800)          0         \n",
      "_________________________________________________________________\n",
      "bidirectional_1 (Bidirection (100, None, 800)          3843200   \n",
      "_________________________________________________________________\n",
      "batch_normalization_2 (Batch (100, None, 800)          3200      \n",
      "_________________________________________________________________\n",
      "dropout_1 (Dropout)          (100, None, 800)          0         \n",
      "_________________________________________________________________\n",
      "time_distributed (TimeDistri (100, None, 223)          178623    \n",
      "_________________________________________________________________\n",
      "softmax (Activation)         (100, None, 223)          0         \n",
      "=================================================================\n",
      "Total params: 5,721,023\n",
      "Trainable params: 5,717,823\n",
      "Non-trainable params: 3,200\n",
      "_________________________________________________________________\n"
     ]
    }
   ],
   "source": [
    "speech_model = BidirectionalRNN(n_mels, batch_size=batch_size, output_dim=output_dim)\n",
    "speech_model.summary()"
   ]
  },
  {
   "cell_type": "code",
   "execution_count": 23,
   "id": "RDnPaCNyKkAN",
   "metadata": {
    "colab": {
     "base_uri": "https://localhost:8080/"
    },
    "id": "RDnPaCNyKkAN",
    "outputId": "dbc14b62-3989-4c73-e09e-ee0793afc523"
   },
   "outputs": [
    {
     "name": "stdout",
     "output_type": "stream",
     "text": [
      "Model: \"model_builder\"\n",
      "_________________________________________________________________\n",
      "Layer (type)                 Output Shape              Param #   \n",
      "=================================================================\n",
      "the_input (InputLayer)       [(None, None)]            0         \n",
      "_________________________________________________________________\n",
      "preprocessin_model (Function (None, None, 128, 1)      4         \n",
      "_________________________________________________________________\n",
      "tf.compat.v1.squeeze_1 (TFOp (None, None, 128)         0         \n",
      "_________________________________________________________________\n",
      "BidirectionalRNN (Functional (100, None, 223)          5721023   \n",
      "=================================================================\n",
      "Total params: 5,721,027\n",
      "Trainable params: 5,717,825\n",
      "Non-trainable params: 3,202\n",
      "_________________________________________________________________\n"
     ]
    }
   ],
   "source": [
    "model = build_model(output_dim, speech_model, preprocess_model)\n",
    "model.summary()"
   ]
  },
  {
   "cell_type": "code",
   "execution_count": 24,
   "id": "fgTz5_iBK18s",
   "metadata": {
    "colab": {
     "base_uri": "https://localhost:8080/"
    },
    "id": "fgTz5_iBK18s",
    "outputId": "5443a3e2-9e31-441d-b085-d12e52d3c106"
   },
   "outputs": [
    {
     "name": "stdout",
     "output_type": "stream",
     "text": [
      "Model: \"model_1\"\n",
      "__________________________________________________________________________________________________\n",
      "Layer (type)                    Output Shape         Param #     Connected to                     \n",
      "==================================================================================================\n",
      "the_input (InputLayer)          [(None, None)]       0                                            \n",
      "__________________________________________________________________________________________________\n",
      "preprocessin_model (Functional) (None, None, 128, 1) 4           the_input[0][0]                  \n",
      "__________________________________________________________________________________________________\n",
      "tf.compat.v1.squeeze_1 (TFOpLam (None, None, 128)    0           preprocessin_model[1][0]         \n",
      "__________________________________________________________________________________________________\n",
      "input_length (InputLayer)       [(None, 1)]          0                                            \n",
      "__________________________________________________________________________________________________\n",
      "BidirectionalRNN (Functional)   (100, None, 223)     5721023     tf.compat.v1.squeeze_1[0][0]     \n",
      "__________________________________________________________________________________________________\n",
      "the_labels (InputLayer)         [(None, None)]       0                                            \n",
      "__________________________________________________________________________________________________\n",
      "lambda_1 (Lambda)               (None, 1)            0           input_length[0][0]               \n",
      "__________________________________________________________________________________________________\n",
      "label_length (InputLayer)       [(None, 1)]          0                                            \n",
      "__________________________________________________________________________________________________\n",
      "ctc (Lambda)                    (100, 1)             0           BidirectionalRNN[0][0]           \n",
      "                                                                 the_labels[0][0]                 \n",
      "                                                                 lambda_1[0][0]                   \n",
      "                                                                 label_length[0][0]               \n",
      "==================================================================================================\n",
      "Total params: 5,721,027\n",
      "Trainable params: 5,717,825\n",
      "Non-trainable params: 3,202\n",
      "__________________________________________________________________________________________________\n",
      "None\n",
      "Epoch 1/20\n"
     ]
    },
    {
     "name": "stderr",
     "output_type": "stream",
     "text": [
      "/usr/local/lib/python3.7/dist-packages/tensorflow/python/keras/engine/training.py:1940: UserWarning: `Model.fit_generator` is deprecated and will be removed in a future version. Please use `Model.fit`, which supports generators.\n",
      "  warnings.warn('`Model.fit_generator` is deprecated and '\n"
     ]
    },
    {
     "name": "stdout",
     "output_type": "stream",
     "text": [
      "50/50 [==============================] - 56s 976ms/step - loss: 211.8533\n",
      "Epoch 2/20\n",
      "50/50 [==============================] - 49s 986ms/step - loss: 176.6702\n",
      "Epoch 3/20\n",
      "50/50 [==============================] - 49s 984ms/step - loss: 161.4403\n",
      "Epoch 4/20\n",
      "50/50 [==============================] - 49s 981ms/step - loss: 141.4966\n",
      "Epoch 5/20\n",
      "50/50 [==============================] - 49s 987ms/step - loss: 121.0426\n",
      "Epoch 6/20\n",
      "50/50 [==============================] - 49s 988ms/step - loss: 103.3063\n",
      "Epoch 7/20\n",
      "50/50 [==============================] - 49s 982ms/step - loss: 88.2678\n",
      "Epoch 8/20\n",
      "50/50 [==============================] - 49s 986ms/step - loss: 75.9721\n",
      "Epoch 9/20\n",
      "50/50 [==============================] - 49s 984ms/step - loss: 66.2046\n",
      "Epoch 10/20\n",
      "50/50 [==============================] - 49s 987ms/step - loss: 58.2987\n",
      "Epoch 11/20\n",
      "50/50 [==============================] - 49s 986ms/step - loss: 51.9923\n",
      "Epoch 12/20\n",
      "50/50 [==============================] - 49s 986ms/step - loss: 46.6416\n",
      "Epoch 13/20\n",
      "50/50 [==============================] - 49s 988ms/step - loss: 41.7445\n",
      "Epoch 14/20\n",
      "50/50 [==============================] - 49s 985ms/step - loss: 37.6179\n",
      "Epoch 15/20\n",
      "50/50 [==============================] - 49s 981ms/step - loss: 33.8900\n",
      "Epoch 16/20\n",
      "50/50 [==============================] - 49s 980ms/step - loss: 30.4547\n",
      "Epoch 17/20\n",
      "50/50 [==============================] - 50s 988ms/step - loss: 27.5560\n",
      "Epoch 18/20\n",
      "50/50 [==============================] - 49s 978ms/step - loss: 25.0614\n",
      "Epoch 19/20\n",
      "50/50 [==============================] - 49s 979ms/step - loss: 22.6158\n",
      "Epoch 20/20\n",
      "50/50 [==============================] - 49s 979ms/step - loss: 20.3860\n"
     ]
    }
   ],
   "source": [
    "train(model, 100, dg, epochs=20,  batch_size=100)"
   ]
  }
 ],
 "metadata": {
  "accelerator": "GPU",
  "colab": {
   "collapsed_sections": [],
   "name": "ModelTrain.ipynb",
   "provenance": []
  },
  "kernelspec": {
   "display_name": "Python 3",
   "language": "python",
   "name": "python3"
  },
  "language_info": {
   "codemirror_mode": {
    "name": "ipython",
    "version": 3
   },
   "file_extension": ".py",
   "mimetype": "text/x-python",
   "name": "python",
   "nbconvert_exporter": "python",
   "pygments_lexer": "ipython3",
   "version": "3.9.4"
  }
 },
 "nbformat": 4,
 "nbformat_minor": 5
}
